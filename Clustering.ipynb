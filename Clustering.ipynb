{
 "cells": [
  {
   "cell_type": "code",
   "execution_count": 74,
   "metadata": {},
   "outputs": [],
   "source": [
    "import pandas as pd\n",
    "import plotly.express as px\n",
    "from sklearn.cluster import KMeans \n",
    "import matplotlib.pyplot as plt   \n",
    "import plotly.express as px\n",
    "from sklearn.metrics import silhouette_score\n",
    "from sklearn_extra.cluster import KMedoids\n",
    "import tabletext\n",
    "import numpy as np\n",
    "from scipy.cluster.hierarchy import dendrogram\n",
    "from sklearn.cluster import AgglomerativeClustering\n",
    "import csv "
   ]
  },
  {
   "cell_type": "markdown",
   "metadata": {},
   "source": [
    "## 1. Read the file points1.xlsor points1.csv. With the scatter plot identify the objects. Report the natural groups, that you see."
   ]
  },
  {
   "cell_type": "code",
   "execution_count": 40,
   "metadata": {
    "scrolled": true
   },
   "outputs": [
    {
     "data": {
      "text/html": [
       "<div>\n",
       "<style scoped>\n",
       "    .dataframe tbody tr th:only-of-type {\n",
       "        vertical-align: middle;\n",
       "    }\n",
       "\n",
       "    .dataframe tbody tr th {\n",
       "        vertical-align: top;\n",
       "    }\n",
       "\n",
       "    .dataframe thead th {\n",
       "        text-align: right;\n",
       "    }\n",
       "</style>\n",
       "<table border=\"1\" class=\"dataframe\">\n",
       "  <thead>\n",
       "    <tr style=\"text-align: right;\">\n",
       "      <th></th>\n",
       "      <th>Name</th>\n",
       "      <th>x</th>\n",
       "      <th>y</th>\n",
       "    </tr>\n",
       "  </thead>\n",
       "  <tbody>\n",
       "    <tr>\n",
       "      <th>0</th>\n",
       "      <td>A</td>\n",
       "      <td>2</td>\n",
       "      <td>10</td>\n",
       "    </tr>\n",
       "    <tr>\n",
       "      <th>1</th>\n",
       "      <td>B</td>\n",
       "      <td>2</td>\n",
       "      <td>5</td>\n",
       "    </tr>\n",
       "    <tr>\n",
       "      <th>2</th>\n",
       "      <td>C</td>\n",
       "      <td>8</td>\n",
       "      <td>4</td>\n",
       "    </tr>\n",
       "    <tr>\n",
       "      <th>3</th>\n",
       "      <td>D</td>\n",
       "      <td>5</td>\n",
       "      <td>8</td>\n",
       "    </tr>\n",
       "    <tr>\n",
       "      <th>4</th>\n",
       "      <td>E</td>\n",
       "      <td>7</td>\n",
       "      <td>5</td>\n",
       "    </tr>\n",
       "    <tr>\n",
       "      <th>5</th>\n",
       "      <td>F</td>\n",
       "      <td>6</td>\n",
       "      <td>4</td>\n",
       "    </tr>\n",
       "    <tr>\n",
       "      <th>6</th>\n",
       "      <td>G</td>\n",
       "      <td>1</td>\n",
       "      <td>2</td>\n",
       "    </tr>\n",
       "    <tr>\n",
       "      <th>7</th>\n",
       "      <td>H</td>\n",
       "      <td>4</td>\n",
       "      <td>9</td>\n",
       "    </tr>\n",
       "  </tbody>\n",
       "</table>\n",
       "</div>"
      ],
      "text/plain": [
       "  Name  x   y\n",
       "0    A  2  10\n",
       "1    B  2   5\n",
       "2    C  8   4\n",
       "3    D  5   8\n",
       "4    E  7   5\n",
       "5    F  6   4\n",
       "6    G  1   2\n",
       "7    H  4   9"
      ]
     },
     "execution_count": 40,
     "metadata": {},
     "output_type": "execute_result"
    }
   ],
   "source": [
    "df = pd.read_csv('~/Nextcloud/Uni/Maschinelles Lernen/points1.csv')\n",
    "df"
   ]
  },
  {
   "cell_type": "code",
   "execution_count": 7,
   "metadata": {
    "scrolled": true
   },
   "outputs": [
    {
     "data": {
      "image/png": "[encoded data removed]",
      "text/plain": [
       "<Figure size 432x288 with 1 Axes>"
      ]
     },
     "metadata": {
      "needs_background": "light"
     },
     "output_type": "display_data"
    }
   ],
   "source": [
    "_ = df.plot(kind='scatter',x='x',y='y',title='Points 1')"
   ]
  },
  {
   "cell_type": "markdown",
   "metadata": {},
   "source": [
    "Auf den ersten Blick würde ich nach drei Gruppen ordnen: die erste ist im linken Bereich unten mit zwei Punkten, der zweite im oberen Bereich mit drei Punkten und die letzte Grupe unten rechts mit drei Punkten.\n"
   ]
  },
  {
   "cell_type": "markdown",
   "metadata": {},
   "source": [
    "## 2. Run K-means with the number k for the number of clusters that you have identified above. Draw a scatter-plot of the objects so that all objects in one cluster have the same color. Report this picture and comment whether these clusters coincide with the clusters identified above."
   ]
  },
  {
   "cell_type": "code",
   "execution_count": 8,
   "metadata": {},
   "outputs": [
    {
     "data": {
      "text/html": [
       "<div>\n",
       "<style scoped>\n",
       "    .dataframe tbody tr th:only-of-type {\n",
       "        vertical-align: middle;\n",
       "    }\n",
       "\n",
       "    .dataframe tbody tr th {\n",
       "        vertical-align: top;\n",
       "    }\n",
       "\n",
       "    .dataframe thead th {\n",
       "        text-align: right;\n",
       "    }\n",
       "</style>\n",
       "<table border=\"1\" class=\"dataframe\">\n",
       "  <thead>\n",
       "    <tr style=\"text-align: right;\">\n",
       "      <th></th>\n",
       "      <th>x</th>\n",
       "      <th>y</th>\n",
       "    </tr>\n",
       "  </thead>\n",
       "  <tbody>\n",
       "    <tr>\n",
       "      <th>0</th>\n",
       "      <td>2</td>\n",
       "      <td>10</td>\n",
       "    </tr>\n",
       "    <tr>\n",
       "      <th>1</th>\n",
       "      <td>2</td>\n",
       "      <td>5</td>\n",
       "    </tr>\n",
       "    <tr>\n",
       "      <th>2</th>\n",
       "      <td>8</td>\n",
       "      <td>4</td>\n",
       "    </tr>\n",
       "    <tr>\n",
       "      <th>3</th>\n",
       "      <td>5</td>\n",
       "      <td>8</td>\n",
       "    </tr>\n",
       "    <tr>\n",
       "      <th>4</th>\n",
       "      <td>7</td>\n",
       "      <td>5</td>\n",
       "    </tr>\n",
       "    <tr>\n",
       "      <th>5</th>\n",
       "      <td>6</td>\n",
       "      <td>4</td>\n",
       "    </tr>\n",
       "    <tr>\n",
       "      <th>6</th>\n",
       "      <td>1</td>\n",
       "      <td>2</td>\n",
       "    </tr>\n",
       "    <tr>\n",
       "      <th>7</th>\n",
       "      <td>4</td>\n",
       "      <td>9</td>\n",
       "    </tr>\n",
       "  </tbody>\n",
       "</table>\n",
       "</div>"
      ],
      "text/plain": [
       "   x   y\n",
       "0  2  10\n",
       "1  2   5\n",
       "2  8   4\n",
       "3  5   8\n",
       "4  7   5\n",
       "5  6   4\n",
       "6  1   2\n",
       "7  4   9"
      ]
     },
     "execution_count": 8,
     "metadata": {},
     "output_type": "execute_result"
    }
   ],
   "source": [
    "# Werte aus der Tabelle speichern\n",
    "data_xy = df.iloc[:,[1,2]].copy()\n",
    "\n",
    "data_xy"
   ]
  },
  {
   "cell_type": "code",
   "execution_count": 9,
   "metadata": {
    "scrolled": false
   },
   "outputs": [],
   "source": [
    "def clustering(n_clusters):\n",
    "    k = KMeans(n_clusters)\n",
    "    k.fit(data_xy)\n",
    "    y_kmeans = k.predict(data_xy)\n",
    "    # Cluster visualisieren\n",
    "    plt.scatter(data_xy.iloc[:, 0], data_xy.iloc[:, 1], c=y_kmeans, s=70) \n",
    "\n",
    "    plt.xlabel('x');plt.ylabel('y'); \n",
    "\n",
    "    # Zentren ausgeben und visualisieren\n",
    "    #2 = Nachkommastelle\n",
    "    centers = np.around(k.cluster_centers_,2)\n",
    "    plt.scatter(centers[:, 0], centers[:, 1], c='red', s=120);\n",
    "    plt.show()\n",
    "    print('\\nZentren liegen bei:')\n",
    "    print (tabletext.to_text(centers))"
   ]
  },
  {
   "cell_type": "code",
   "execution_count": 10,
   "metadata": {},
   "outputs": [
    {
     "name": "stdout",
     "output_type": "stream",
     "text": [
      "Points 1 Cluster with k = 3\n"
     ]
    },
    {
     "data": {
      "image/png": "[encoded data removed]",
      "text/plain": [
       "<Figure size 432x288 with 1 Axes>"
      ]
     },
     "metadata": {
      "needs_background": "light"
     },
     "output_type": "display_data"
    },
    {
     "name": "stdout",
     "output_type": "stream",
     "text": [
      "\n",
      "Zentren liegen bei:\n",
      "┌──────┬──────┐\n",
      "│  1.5 │  3.5 │\n",
      "├──────┼──────┤\n",
      "│  7.0 │ 4.33 │\n",
      "├──────┼──────┤\n",
      "│ 3.67 │  9.0 │\n",
      "└──────┴──────┘\n"
     ]
    }
   ],
   "source": [
    "n_clusters=3\n",
    "print ('Points 1 Cluster with k = 3')\n",
    "clustering(n_clusters)"
   ]
  },
  {
   "cell_type": "markdown",
   "metadata": {},
   "source": [
    "Die berechneten Cluster entsprechen den vermuteten Clustern s.o."
   ]
  },
  {
   "cell_type": "markdown",
   "metadata": {},
   "source": [
    "## 3. Report the centers of the clusters and describe qualitatively the clusters."
   ]
  },
  {
   "cell_type": "markdown",
   "metadata": {},
   "source": [
    "gDie Zentren sind jeweils die rot makierten Punkte in den Graphen. Darunter in den Tabelen sind die Punkte gelistet.\n",
    "\n",
    "Points Cluster with k = 2:\n",
    "\n",
    "Das Zentrum (4.8/4.0) umfasst ein sehr breit gefächertes Cluster. Die Punkte liegen breit verteilt auf der x-Achse. Möglicherweise könnte das für eine genaue Analyse der Verteilung zu ungenau sein.\n",
    "\n",
    "Points Cluster with k = 3 (optimales k):\n",
    "\n",
    "Es liegt wie anhand der Ellbogen bewiesen wurde eine optimale Verteilung vor. Die Zentren mit den Objekten liegen sehr gut voneinander entfernt vor.\n",
    "# Korrektur\n",
    "> C1(1.5/3.5): übrige Objekte,\n",
    "C2(7.0/4.33): kleine Objekte,\n",
    "C3(3.67/9.0): große Objekte,\n",
    "\n",
    "\n",
    "\n",
    "\n",
    "Points Cluster with k = 4:\n",
    "\n",
    "Für eine optimale Verteilung der Cluster ergab die Ellbogenmethode das k = 3 die optimale Anzahl ist. Hier sehen wir das ein Zentrum (10.0/2.0) keine Punkte mehr abdeckt und das es besser wäre aus diesem Zentrum und aus dem Zentrum (4.5/8.5) nur ein Zentrum eher mittig zu setzen.\n",
    "\n",
    "\n",
    "\n",
    "Points Cluster with k = 5 und k = 6:\n",
    "\n",
    "Hier sehen wir das diese Anzahl an Zentren nicht sinnvoll ist, da die Ausreißer mit Zentren bedacht werden.\n",
    "\n",
    "\n"
   ]
  },
  {
   "cell_type": "markdown",
   "metadata": {},
   "source": [
    "## 4. Vary K, the number of clusters, and find an optimal value for K. For this, plot SSE versus K; the optimal number corresponds to a sharp drop in the curve (elbow method).Report the value of SSE for this optimal K."
   ]
  },
  {
   "cell_type": "code",
   "execution_count": 73,
   "metadata": {
    "scrolled": false
   },
   "outputs": [
    {
     "name": "stdout",
     "output_type": "stream",
     "text": [
      "Points 1 Cluster with k = 2\n"
     ]
    },
    {
     "data": {
      "image/png": "[encoded data removed]",
      "text/plain": [
       "<Figure size 432x288 with 1 Axes>"
      ]
     },
     "metadata": {
      "needs_background": "light"
     },
     "output_type": "display_data"
    },
    {
     "name": "stdout",
     "output_type": "stream",
     "text": [
      "\n",
      "Zentren liegen bei:\n",
      "┌──────┬─────┐\n",
      "│ 3.67 │ 9.0 │\n",
      "├──────┼─────┤\n",
      "│  4.8 │ 4.0 │\n",
      "└──────┴─────┘\n"
     ]
    }
   ],
   "source": [
    "n_clusters=2\n",
    "print ('Points 1 Cluster with k = 2')\n",
    "clustering(n_clusters)"
   ]
  },
  {
   "cell_type": "code",
   "execution_count": 74,
   "metadata": {
    "scrolled": false
   },
   "outputs": [
    {
     "name": "stdout",
     "output_type": "stream",
     "text": [
      "Points 1 Cluster with k = 4\n"
     ]
    },
    {
     "data": {
      "image/png": "[encoded data removed]",
      "text/plain": [
       "<Figure size 432x288 with 1 Axes>"
      ]
     },
     "metadata": {
      "needs_background": "light"
     },
     "output_type": "display_data"
    },
    {
     "name": "stdout",
     "output_type": "stream",
     "text": [
      "\n",
      "Zentren liegen bei:\n",
      "┌─────┬──────┐\n",
      "│ 1.5 │  3.5 │\n",
      "├─────┼──────┤\n",
      "│ 7.0 │ 4.33 │\n",
      "├─────┼──────┤\n",
      "│ 4.5 │  8.5 │\n",
      "├─────┼──────┤\n",
      "│ 2.0 │ 10.0 │\n",
      "└─────┴──────┘\n"
     ]
    }
   ],
   "source": [
    "n_clusters=4\n",
    "print ('Points 1 Cluster with k = 4')\n",
    "clustering(n_clusters)"
   ]
  },
  {
   "cell_type": "code",
   "execution_count": 75,
   "metadata": {},
   "outputs": [
    {
     "name": "stdout",
     "output_type": "stream",
     "text": [
      "Points 1 Cluster with k = 5\n"
     ]
    },
    {
     "data": {
      "image/png": "[encoded data removed]",
      "text/plain": [
       "<Figure size 432x288 with 1 Axes>"
      ]
     },
     "metadata": {
      "needs_background": "light"
     },
     "output_type": "display_data"
    },
    {
     "name": "stdout",
     "output_type": "stream",
     "text": [
      "\n",
      "Zentren liegen bei:\n",
      "┌─────┬──────┐\n",
      "│ 2.0 │  5.0 │\n",
      "├─────┼──────┤\n",
      "│ 7.0 │ 4.33 │\n",
      "├─────┼──────┤\n",
      "│ 4.5 │  8.5 │\n",
      "├─────┼──────┤\n",
      "│ 1.0 │  2.0 │\n",
      "├─────┼──────┤\n",
      "│ 2.0 │ 10.0 │\n",
      "└─────┴──────┘\n"
     ]
    }
   ],
   "source": [
    "n_clusters=5\n",
    "print ('Points 1 Cluster with k = 5')\n",
    "clustering(n_clusters)"
   ]
  },
  {
   "cell_type": "code",
   "execution_count": 76,
   "metadata": {},
   "outputs": [
    {
     "name": "stdout",
     "output_type": "stream",
     "text": [
      "Points 1 Cluster with k = 6\n"
     ]
    },
    {
     "data": {
      "image/png": "[encoded data removed]",
      "text/plain": [
       "<Figure size 432x288 with 1 Axes>"
      ]
     },
     "metadata": {
      "needs_background": "light"
     },
     "output_type": "display_data"
    },
    {
     "name": "stdout",
     "output_type": "stream",
     "text": [
      "\n",
      "Zentren liegen bei:\n",
      "┌─────┬──────┐\n",
      "│ 6.5 │  4.5 │\n",
      "├─────┼──────┤\n",
      "│ 4.5 │  8.5 │\n",
      "├─────┼──────┤\n",
      "│ 1.0 │  2.0 │\n",
      "├─────┼──────┤\n",
      "│ 2.0 │ 10.0 │\n",
      "├─────┼──────┤\n",
      "│ 2.0 │  5.0 │\n",
      "├─────┼──────┤\n",
      "│ 8.0 │  4.0 │\n",
      "└─────┴──────┘\n"
     ]
    }
   ],
   "source": [
    "n_clusters=6\n",
    "print ('Points 1 Cluster with k = 6')\n",
    "clustering(n_clusters)"
   ]
  },
  {
   "cell_type": "markdown",
   "metadata": {},
   "source": [
    "## SSE vs K"
   ]
  },
  {
   "cell_type": "code",
   "execution_count": 77,
   "metadata": {
    "scrolled": true
   },
   "outputs": [
    {
     "name": "stdout",
     "output_type": "stream",
     "text": [
      "KMeans(n_clusters=2)\n",
      "51.47\n",
      "KMeans(n_clusters=3)\n",
      "14.33\n",
      "KMeans(n_clusters=4)\n",
      "8.67\n",
      "KMeans(n_clusters=5)\n",
      "3.67\n",
      "KMeans(n_clusters=6)\n",
      "2.0\n",
      "KMeans(n_clusters=7)\n",
      "1.0\n"
     ]
    }
   ],
   "source": [
    "sse=[]\n",
    "K = range(2,8)\n",
    "for k in K:\n",
    "    kmeanModel = KMeans(n_clusters=k)\n",
    "    kmeanModel.fit(data_xy)\n",
    "    sse.append(kmeanModel.inertia_)\n",
    "    print(kmeanModel)\n",
    "    print(np.around(kmeanModel.inertia_,2))"
   ]
  },
  {
   "cell_type": "code",
   "execution_count": 78,
   "metadata": {},
   "outputs": [
    {
     "data": {
      "image/png": "[encoded data removed]",
      "text/plain": [
       "<Figure size 1152x576 with 1 Axes>"
      ]
     },
     "metadata": {
      "needs_background": "light"
     },
     "output_type": "display_data"
    }
   ],
   "source": [
    "    plt.figure(figsize=(16,8))\n",
    "    plt.plot(K, sse, 'bx-')\n",
    "    plt.xlabel('k', fontsize = 30)\n",
    "    plt.ylabel('sse', fontsize = 30)\n",
    "    plt.title('The Elbow Method showing the optimal k', fontsize = 24)\n",
    "    plt.show()"
   ]
  },
  {
   "cell_type": "markdown",
   "metadata": {},
   "source": [
    "Der Wendepunkt der Kurve (\"Elbow\") liegt bei k = 3 und SSE = 14,33. Das bedeutet das k = 3 eine gute Wahl für die Cluster ist. Wir überprüfen das Ablesen mit dem Silhouette Score. Der Wertebereich beim Silhouette Score reicht von -1 bis 1. \n",
    "\n",
    "1 = Cluster gut voneinander getrennt und können klar unterschieden werden\n",
    "\n",
    "\n",
    "0 = Cluster sind indifferent, dh. der Abstand zwischen den Clustern ist nicht signifikant\n",
    "\n",
    "\n",
    "-1 = Cluster falsch zugeordnet\n",
    "\n",
    "[Quelle Silhouette Score](https://towardsdatascience.com/silhouette-coefficient-validating-clustering-techniques-e976bb81d10c)"
   ]
  },
  {
   "cell_type": "code",
   "execution_count": 79,
   "metadata": {
    "scrolled": true
   },
   "outputs": [
    {
     "name": "stdout",
     "output_type": "stream",
     "text": [
      "k = 2, silhouette score is 0.38834298285323554)\n",
      "k = 3, silhouette score is 0.5708086620582917)\n",
      "k = 4, silhouette score is 0.47159245233453273)\n",
      "k = 5, silhouette score is 0.36664911357015373)\n",
      "k = 6, silhouette score is 0.15852567706292603)\n",
      "k = 7, silhouette score is 0.12191402471124449)\n"
     ]
    }
   ],
   "source": [
    "K = range(2,8)\n",
    "for k in K:\n",
    "    clusterer = KMeans(n_clusters=k)\n",
    "    preds = clusterer.fit_predict(data_xy)\n",
    "    centers = clusterer.cluster_centers_\n",
    "\n",
    "    score = silhouette_score(data_xy, preds)\n",
    "    print(\"k = {}, silhouette score is {})\".format(k, score))\n"
   ]
  },
  {
   "cell_type": "markdown",
   "metadata": {},
   "source": [
    "Der Silhouette Score liegt bei k = 3 bei 0.57. Wir wollen uns der 1 so weit wie möglich annähren. Bei k = 2 und K = 4 geht der Wert weiter Richtung 0, daher wäre auch ein kleineres oder größeres k ungünstig. Hiermit bestätigt sich:\n",
    "> k = 3"
   ]
  },
  {
   "cell_type": "markdown",
   "metadata": {},
   "source": [
    "## 5. Use the K-medoids algorithm with the same dataset and the number K identified in question 4 above. Compare the clusters you get with the clusters obtained with K-means. What are the centers of the clusters? Explain briefly the main difference between K-means and K-medoids.Report all your results."
   ]
  },
  {
   "cell_type": "code",
   "execution_count": 80,
   "metadata": {},
   "outputs": [],
   "source": [
    "kmedoids = KMedoids(n_clusters=3, random_state=0).fit(data_xy)"
   ]
  },
  {
   "cell_type": "markdown",
   "metadata": {},
   "source": [
    "Punkte der K-Medoids Zentren:"
   ]
  },
  {
   "cell_type": "code",
   "execution_count": 81,
   "metadata": {},
   "outputs": [
    {
     "data": {
      "text/html": [
       "<div>\n",
       "<style scoped>\n",
       "    .dataframe tbody tr th:only-of-type {\n",
       "        vertical-align: middle;\n",
       "    }\n",
       "\n",
       "    .dataframe tbody tr th {\n",
       "        vertical-align: top;\n",
       "    }\n",
       "\n",
       "    .dataframe thead th {\n",
       "        text-align: right;\n",
       "    }\n",
       "</style>\n",
       "<table border=\"1\" class=\"dataframe\">\n",
       "  <thead>\n",
       "    <tr style=\"text-align: right;\">\n",
       "      <th></th>\n",
       "      <th>x</th>\n",
       "      <th>y</th>\n",
       "    </tr>\n",
       "  </thead>\n",
       "  <tbody>\n",
       "    <tr>\n",
       "      <th>0</th>\n",
       "      <td>4</td>\n",
       "      <td>9</td>\n",
       "    </tr>\n",
       "    <tr>\n",
       "      <th>1</th>\n",
       "      <td>2</td>\n",
       "      <td>5</td>\n",
       "    </tr>\n",
       "    <tr>\n",
       "      <th>2</th>\n",
       "      <td>7</td>\n",
       "      <td>5</td>\n",
       "    </tr>\n",
       "  </tbody>\n",
       "</table>\n",
       "</div>"
      ],
      "text/plain": [
       "   x  y\n",
       "0  4  9\n",
       "1  2  5\n",
       "2  7  5"
      ]
     },
     "execution_count": 81,
     "metadata": {},
     "output_type": "execute_result"
    }
   ],
   "source": [
    "pd.DataFrame(kmedoids.cluster_centers_\n",
    ", columns=['x', 'y'])"
   ]
  },
  {
   "cell_type": "markdown",
   "metadata": {},
   "source": [
    "K-Medoids Cluster mit Zentren:"
   ]
  },
  {
   "cell_type": "code",
   "execution_count": 82,
   "metadata": {
    "scrolled": false
   },
   "outputs": [
    {
     "name": "stdout",
     "output_type": "stream",
     "text": [
      "Points 1 Cluster with k-medoid\n"
     ]
    },
    {
     "data": {
      "image/png": "[encoded data removed]",
      "text/plain": [
       "<Figure size 432x288 with 1 Axes>"
      ]
     },
     "metadata": {
      "needs_background": "light"
     },
     "output_type": "display_data"
    },
    {
     "name": "stdout",
     "output_type": "stream",
     "text": [
      "\n",
      "Zentren liegen bei:\n",
      "┌───┬───┐\n",
      "│ 4 │ 9 │\n",
      "├───┼───┤\n",
      "│ 2 │ 5 │\n",
      "├───┼───┤\n",
      "│ 7 │ 5 │\n",
      "└───┴───┘\n",
      "\n",
      "\n",
      "\n",
      "Points 1 Cluster with k-mean \n"
     ]
    },
    {
     "data": {
      "image/png": "[encoded data removed]",
      "text/plain": [
       "<Figure size 432x288 with 1 Axes>"
      ]
     },
     "metadata": {
      "needs_background": "light"
     },
     "output_type": "display_data"
    },
    {
     "name": "stdout",
     "output_type": "stream",
     "text": [
      "\n",
      "Zentren liegen bei:\n",
      "┌──────┬──────┐\n",
      "│ 3.67 │  9.0 │\n",
      "├──────┼──────┤\n",
      "│  7.0 │ 4.33 │\n",
      "├──────┼──────┤\n",
      "│  1.5 │  3.5 │\n",
      "└──────┴──────┘\n"
     ]
    }
   ],
   "source": [
    "k = KMeans(n_clusters=3)\n",
    "k.fit(data_xy)\n",
    "y_kmeans = k.predict(data_xy)\n",
    "\n",
    "print ('Points 1 Cluster with k-medoid')\n",
    "\n",
    "# Cluster visualisieren\n",
    "plt.scatter(data_xy.iloc[:, 0], data_xy.iloc[:, 1], c=y_kmeans, s=70) \n",
    "\n",
    "plt.xlabel('x');plt.ylabel('y'); \n",
    "    \n",
    "# Zentren ausgeben und visualisieren\n",
    "centers = kmedoids.cluster_centers_\n",
    "plt.scatter(centers[:, 0], centers[:, 1], c='red', s=120);\n",
    "plt.show()\n",
    "\n",
    "print('\\nZentren liegen bei:')\n",
    "print (tabletext.to_text(centers))\n",
    "\n",
    "n_clusters=3\n",
    "print ('\\n\\n\\nPoints 1 Cluster with k-mean ')\n",
    "clustering(n_clusters)"
   ]
  },
  {
   "cell_type": "markdown",
   "metadata": {},
   "source": [
    "Bei der Betrachtung der Zentren von k-means und k-medoids fällt auf das die Zentren bei k-medoids  sehr nahe den Zentren von k-means liegen. Allerdings ist zu sehen, das Die k-medoid Zentren den Platz von ursprünglichen Punkten im jeweiligen Cluster eingenommen hat.\n",
    "\n",
    "\n",
    "Bei k-mean ist das Zentrum des Clusters der Mittelwert. Der Mittelwert ist empfindlicher was Ausreißer betrifft, da er nicht mehr genau den Durschnitt der Menge repräsentiert. K-Medoids Centroids sind nicht so empfindlich wie k-mean Zentren, da es einen anderen Clustering Algorithmus verwendet:\n",
    "\n",
    "Es wird zu jedem Punkt der Abstand zu allen anderen Punkten genommen. Dann wird der Punkt mit den kürzesten Abstand zu einem anderen Punkt als das neue Zenter genommen."
   ]
  },
  {
   "cell_type": "markdown",
   "metadata": {},
   "source": [
    "# KORREKTUR\n",
    "## Exercise 7: Hierarchical Agglomerative Clustering. Try out this algorithm with points1.xls and the measures single link, complete link and average link. Notice that the dendograms are different."
   ]
  },
  {
   "cell_type": "code",
   "execution_count": 159,
   "metadata": {},
   "outputs": [
    {
     "name": "stdout",
     "output_type": "stream",
     "text": [
      "Linkage Single\n"
     ]
    },
    {
     "data": {
      "image/png": "[encoded data removed]",
      "text/plain": [
       "<Figure size 432x288 with 1 Axes>"
      ]
     },
     "metadata": {
      "needs_background": "light"
     },
     "output_type": "display_data"
    },
    {
     "name": "stdout",
     "output_type": "stream",
     "text": [
      "Linkage Average\n"
     ]
    },
    {
     "data": {
      "image/png": "[encoded data removed]",
      "text/plain": [
       "<Figure size 432x288 with 1 Axes>"
      ]
     },
     "metadata": {
      "needs_background": "light"
     },
     "output_type": "display_data"
    },
    {
     "name": "stdout",
     "output_type": "stream",
     "text": [
      "Linkage Complete\n"
     ]
    },
    {
     "data": {
      "image/png": "[encoded data removed]",
      "text/plain": [
       "<Figure size 432x288 with 1 Axes>"
      ]
     },
     "metadata": {
      "needs_background": "light"
     },
     "output_type": "display_data"
    }
   ],
   "source": [
    "\n",
    "def plot_dendrogram(model, **kwargs):\n",
    "    # Create linkage matrix and then plot the dendrogram\n",
    "\n",
    "    # create the counts of samples under each node\n",
    "    counts = np.zeros(model.children_.shape[0])\n",
    "    n_samples = len(model.labels_)\n",
    "    for i, merge in enumerate(model.children_):\n",
    "        current_count = 0\n",
    "        for child_idx in merge:\n",
    "            if child_idx < n_samples:\n",
    "                current_count += 1  # leaf node\n",
    "            else:\n",
    "                current_count += counts[child_idx - n_samples]\n",
    "        counts[i] = current_count\n",
    "\n",
    "    linkage_matrix = np.column_stack([model.children_, model.distances_,\n",
    "                                      counts]).astype(np.float64)\n",
    "\n",
    "    # Plot the corresponding dendrogram\n",
    "    dendrogram(linkage_matrix, **kwargs)\n",
    "   \n",
    "                                      \n",
    "                                      \n",
    "file_CSV = open('./points1.csv')\n",
    "data_CSV = pd.read_csv(file_CSV)\n",
    "data_CSV = data_CSV.iloc[:,[1,2]].copy()\n",
    "X = data_CSV.to_numpy()\n",
    "   \n",
    "        \n",
    "\n",
    "        \n",
    "        \n",
    "\n",
    "def showDendogram(model):\n",
    "    model = model.fit(X)\n",
    "    plt.title('Hierarchical Clustering Dendrogram')\n",
    "    # plot the top three levels of the dendrogram\n",
    "    plot_dendrogram(model, truncate_mode='level', p=3)\n",
    "    plt.xlabel(\"Number of points in node (or index of point if no parenthesis).\")\n",
    "    plt.show()\n",
    "\n",
    "    \n",
    "\n",
    "model1 = AgglomerativeClustering(distance_threshold=0, n_clusters=None,linkage='single')\n",
    "print('Linkage Single')\n",
    "showDendogram(model1)  \n",
    "model2 = AgglomerativeClustering(distance_threshold=0, n_clusters=None,linkage='average')\n",
    "print('Linkage Average')\n",
    "showDendogram(model2)  \n",
    "model3 = AgglomerativeClustering(distance_threshold=0, n_clusters=None,linkage='complete')\n",
    "print('Linkage Complete')\n",
    "showDendogram(model3)  \n"
   ]
  }
 ],
 "metadata": {
  "kernelspec": {
   "display_name": "Python 3",
   "language": "python",
   "name": "python3"
  },
  "language_info": {
   "codemirror_mode": {
    "name": "ipython",
    "version": 3
   },
   "file_extension": ".py",
   "mimetype": "text/x-python",
   "name": "python",
   "nbconvert_exporter": "python",
   "pygments_lexer": "ipython3",
   "version": "3.8.5"
  }
 },
 "nbformat": 4,
 "nbformat_minor": 4
}

{
 "cells": [
  {
   "cell_type": "code",
   "execution_count": 3,
   "metadata": {},
   "outputs": [],
   "source": [
    "import pandas as pd\n",
    "import numpy as np\n",
    "from scipy import stats\n",
    "from matplotlib import pyplot as plt\n",
    "import seaborn as sns \n",
    "from pandas.plotting import radviz\n",
    "import pandas\n",
    "from sklearn import tree\n",
    "from matplotlib.pyplot import figure\n",
    "import warnings\n",
    "warnings.simplefilter(action='ignore', category=FutureWarning)\n",
    "from sklearn.mixture import GaussianMixture\n",
    "import pydotplus\n",
    "import matplotlib.image as pltimg\n",
    "from IPython.display import Image\n",
    "import graphviz\n",
    "# Load libraries\n",
    "from sklearn.tree import DecisionTreeClassifier # Import Decision Tree Classifier\n",
    "from sklearn.model_selection import train_test_split # Import train_test_split function\n",
    "from sklearn import metrics #Import scikit-learn metrics module for accuracy calculation\n",
    "import pydot\n",
    "from graphviz import Source\n",
    "#from sklearn.datasets import load_iris\n",
    "from sklearn.tree import export_text\n",
    "from sklearn.model_selection import cross_val_score\n",
    "from sklearn.model_selection import GridSearchCV"
   ]
  },
  {
   "cell_type": "markdown",
   "metadata": {},
   "source": [
    "# Exercise 2: Decision Trees"
   ]
  },
  {
   "cell_type": "markdown",
   "metadata": {},
   "source": [
    "This exercise uses the iris data set. The aim of this study is to investigate whether the four attributesof this set, namely sepallength, sepalwidth,petallength and petalwidth are appropriate to determinethe class of an iris flowerand to discover the phenomena of overfitting / underfitting. The classes present in the data set are: Iris-setosa, Iris-versicolor, andIris-virginica."
   ]
  },
  {
   "cell_type": "markdown",
   "metadata": {},
   "source": [
    "## 1. Read  the  data. "
   ]
  },
  {
   "cell_type": "code",
   "execution_count": 4,
   "metadata": {
    "scrolled": false
   },
   "outputs": [
    {
     "data": {
      "text/html": [
       "<div>\n",
       "<style scoped>\n",
       "    .dataframe tbody tr th:only-of-type {\n",
       "        vertical-align: middle;\n",
       "    }\n",
       "\n",
       "    .dataframe tbody tr th {\n",
       "        vertical-align: top;\n",
       "    }\n",
       "\n",
       "    .dataframe thead th {\n",
       "        text-align: right;\n",
       "    }\n",
       "</style>\n",
       "<table border=\"1\" class=\"dataframe\">\n",
       "  <thead>\n",
       "    <tr style=\"text-align: right;\">\n",
       "      <th></th>\n",
       "      <th>sepallength</th>\n",
       "      <th>sepalwidth</th>\n",
       "      <th>petallength</th>\n",
       "      <th>petalwidth</th>\n",
       "      <th>class</th>\n",
       "    </tr>\n",
       "  </thead>\n",
       "  <tbody>\n",
       "    <tr>\n",
       "      <th>0</th>\n",
       "      <td>5.1</td>\n",
       "      <td>3.5</td>\n",
       "      <td>1.4</td>\n",
       "      <td>0.2</td>\n",
       "      <td>Iris-setosa</td>\n",
       "    </tr>\n",
       "    <tr>\n",
       "      <th>1</th>\n",
       "      <td>4.9</td>\n",
       "      <td>3.0</td>\n",
       "      <td>1.4</td>\n",
       "      <td>0.2</td>\n",
       "      <td>Iris-setosa</td>\n",
       "    </tr>\n",
       "    <tr>\n",
       "      <th>2</th>\n",
       "      <td>4.7</td>\n",
       "      <td>3.2</td>\n",
       "      <td>1.3</td>\n",
       "      <td>0.2</td>\n",
       "      <td>Iris-setosa</td>\n",
       "    </tr>\n",
       "    <tr>\n",
       "      <th>3</th>\n",
       "      <td>4.6</td>\n",
       "      <td>3.1</td>\n",
       "      <td>1.5</td>\n",
       "      <td>0.2</td>\n",
       "      <td>Iris-setosa</td>\n",
       "    </tr>\n",
       "    <tr>\n",
       "      <th>4</th>\n",
       "      <td>5.0</td>\n",
       "      <td>3.6</td>\n",
       "      <td>1.4</td>\n",
       "      <td>0.2</td>\n",
       "      <td>Iris-setosa</td>\n",
       "    </tr>\n",
       "    <tr>\n",
       "      <th>...</th>\n",
       "      <td>...</td>\n",
       "      <td>...</td>\n",
       "      <td>...</td>\n",
       "      <td>...</td>\n",
       "      <td>...</td>\n",
       "    </tr>\n",
       "    <tr>\n",
       "      <th>145</th>\n",
       "      <td>6.7</td>\n",
       "      <td>3.0</td>\n",
       "      <td>5.2</td>\n",
       "      <td>2.3</td>\n",
       "      <td>Iris-virginica</td>\n",
       "    </tr>\n",
       "    <tr>\n",
       "      <th>146</th>\n",
       "      <td>6.3</td>\n",
       "      <td>2.5</td>\n",
       "      <td>5.0</td>\n",
       "      <td>1.9</td>\n",
       "      <td>Iris-virginica</td>\n",
       "    </tr>\n",
       "    <tr>\n",
       "      <th>147</th>\n",
       "      <td>6.5</td>\n",
       "      <td>3.0</td>\n",
       "      <td>5.2</td>\n",
       "      <td>2.0</td>\n",
       "      <td>Iris-virginica</td>\n",
       "    </tr>\n",
       "    <tr>\n",
       "      <th>148</th>\n",
       "      <td>6.2</td>\n",
       "      <td>3.4</td>\n",
       "      <td>5.4</td>\n",
       "      <td>2.3</td>\n",
       "      <td>Iris-virginica</td>\n",
       "    </tr>\n",
       "    <tr>\n",
       "      <th>149</th>\n",
       "      <td>5.9</td>\n",
       "      <td>3.0</td>\n",
       "      <td>5.1</td>\n",
       "      <td>1.8</td>\n",
       "      <td>Iris-virginica</td>\n",
       "    </tr>\n",
       "  </tbody>\n",
       "</table>\n",
       "<p>150 rows × 5 columns</p>\n",
       "</div>"
      ],
      "text/plain": [
       "     sepallength  sepalwidth  petallength  petalwidth           class\n",
       "0            5.1         3.5          1.4         0.2     Iris-setosa\n",
       "1            4.9         3.0          1.4         0.2     Iris-setosa\n",
       "2            4.7         3.2          1.3         0.2     Iris-setosa\n",
       "3            4.6         3.1          1.5         0.2     Iris-setosa\n",
       "4            5.0         3.6          1.4         0.2     Iris-setosa\n",
       "..           ...         ...          ...         ...             ...\n",
       "145          6.7         3.0          5.2         2.3  Iris-virginica\n",
       "146          6.3         2.5          5.0         1.9  Iris-virginica\n",
       "147          6.5         3.0          5.2         2.0  Iris-virginica\n",
       "148          6.2         3.4          5.4         2.3  Iris-virginica\n",
       "149          5.9         3.0          5.1         1.8  Iris-virginica\n",
       "\n",
       "[150 rows x 5 columns]"
      ]
     },
     "execution_count": 4,
     "metadata": {},
     "output_type": "execute_result"
    }
   ],
   "source": [
    "df = pd.read_csv('~/Nextcloud/Uni/Maschinelles Lernen/iris.csv')\n",
    "pd.set_option('display.max_rows', 50)\n",
    "df"
   ]
  },
  {
   "cell_type": "markdown",
   "metadata": {},
   "source": [
    "## 2. Report the summary statistics. Which majority class can you use as a baseline? How good would be the prediction then?"
   ]
  },
  {
   "cell_type": "code",
   "execution_count": 5,
   "metadata": {},
   "outputs": [],
   "source": [
    "iris = pd.read_csv('~/Nextcloud/Uni/Maschinelles Lernen/iris.csv')"
   ]
  },
  {
   "cell_type": "code",
   "execution_count": 6,
   "metadata": {},
   "outputs": [],
   "source": [
    "# calculate index of attribute \n",
    "def getAttIndex (attr_name):\n",
    "    if attr_name == 'sepallength':\n",
    "        return 0\n",
    "    elif attr_name == 'sepalwidth':\n",
    "        return 1\n",
    "    elif attr_name == 'petallength':\n",
    "        return 2\n",
    "    elif attr_name == 'petalwidth':\n",
    "        return 3\n",
    "    \n",
    "    \n",
    "#@param: Iris Name, attr to inspect @return: array of values in certain collumn \n",
    "def calc(iris_name, attr_name):\n",
    "    #initialize return arr\n",
    "    returnArr = []\n",
    "    #convert to array\n",
    "    np_arr = df.to_numpy()\n",
    "    #for each flower\n",
    "    for elem in np_arr:\n",
    "        #if element is from wanted flower\n",
    "        if elem[4] == iris_name:\n",
    "            #add wanted att to return list\n",
    "            returnArr.append(elem[getAttIndex(attr_name)])\n",
    "    return returnArr"
   ]
  },
  {
   "cell_type": "code",
   "execution_count": 7,
   "metadata": {},
   "outputs": [],
   "source": [
    "def median(list):\n",
    "    return np.median(list)\n",
    "\n",
    "def mode(list):\n",
    "    return stats.mode(list)\n",
    "\n",
    "def mean(list):\n",
    "    mean1 = np.mean(list)\n",
    "    mean2 = np.around(mean1,2)\n",
    "    return mean2\n",
    "\n",
    "def min(list):\n",
    "    return np.min(list)\n",
    "\n",
    "def max(list):\n",
    "    return np.max(list)\n",
    "\n",
    "def std_deviation(list):\n",
    "    devi1 = np.std(list)\n",
    "    devi2 = np.around(devi1,2)\n",
    "    return devi2"
   ]
  },
  {
   "cell_type": "markdown",
   "metadata": {},
   "source": [
    "## Summary Statistics:"
   ]
  },
  {
   "cell_type": "code",
   "execution_count": 8,
   "metadata": {},
   "outputs": [
    {
     "name": "stdout",
     "output_type": "stream",
     "text": [
      "Iris-setosa for attribute  sepallength\n",
      "Median: 5.0\n",
      "Mode:  ModeResult(mode=array([5.]), count=array([8]))\n",
      "Mean:  5.01\n",
      "Min-Wert:  4.3\n",
      "Max-Wert:  5.8\n",
      "Standard Deviation:  0.35 \n",
      "\n",
      "Iris-virginica for attribute  sepallength\n",
      "Median: 6.5\n",
      "Mode:  ModeResult(mode=array([6.3]), count=array([6]))\n",
      "Mean:  6.59\n",
      "Min-Wert:  4.9\n",
      "Max-Wert:  7.9\n",
      "Standard Deviation:  0.63 \n",
      "\n",
      "Iris-versicolor for attribute  sepallength\n",
      "Median: 5.9\n",
      "Mode:  ModeResult(mode=array([5.5]), count=array([5]))\n",
      "Mean:  5.94\n",
      "Min-Wert:  4.9\n",
      "Max-Wert:  7.0\n",
      "Standard Deviation:  0.51 \n",
      "\n",
      "Iris-setosa for attribute  sepalwidth\n",
      "Median: 3.4\n",
      "Mode:  ModeResult(mode=array([3.4]), count=array([9]))\n",
      "Mean:  3.42\n",
      "Min-Wert:  2.3\n",
      "Max-Wert:  4.4\n",
      "Standard Deviation:  0.38 \n",
      "\n",
      "Iris-virginica for attribute  sepalwidth\n",
      "Median: 3.0\n",
      "Mode:  ModeResult(mode=array([3.]), count=array([12]))\n",
      "Mean:  2.97\n",
      "Min-Wert:  2.2\n",
      "Max-Wert:  3.8\n",
      "Standard Deviation:  0.32 \n",
      "\n",
      "Iris-versicolor for attribute  sepalwidth\n",
      "Median: 2.8\n",
      "Mode:  ModeResult(mode=array([3.]), count=array([8]))\n",
      "Mean:  2.77\n",
      "Min-Wert:  2.0\n",
      "Max-Wert:  3.4\n",
      "Standard Deviation:  0.31 \n",
      "\n",
      "Iris-setosa for attribute  petallength\n",
      "Median: 1.5\n",
      "Mode:  ModeResult(mode=array([1.5]), count=array([14]))\n",
      "Mean:  1.46\n",
      "Min-Wert:  1.0\n",
      "Max-Wert:  1.9\n",
      "Standard Deviation:  0.17 \n",
      "\n",
      "Iris-virginica for attribute  petallength\n",
      "Median: 5.55\n",
      "Mode:  ModeResult(mode=array([5.1]), count=array([7]))\n",
      "Mean:  5.55\n",
      "Min-Wert:  4.5\n",
      "Max-Wert:  6.9\n",
      "Standard Deviation:  0.55 \n",
      "\n",
      "Iris-versicolor for attribute  petallength\n",
      "Median: 4.35\n",
      "Mode:  ModeResult(mode=array([4.5]), count=array([7]))\n",
      "Mean:  4.26\n",
      "Min-Wert:  3.0\n",
      "Max-Wert:  5.1\n",
      "Standard Deviation:  0.47 \n",
      "\n",
      "Iris-setosa for attribute  petalwidth\n",
      "Median: 0.2\n",
      "Mode:  ModeResult(mode=array([0.2]), count=array([28]))\n",
      "Mean:  0.24\n",
      "Min-Wert:  0.1\n",
      "Max-Wert:  0.6\n",
      "Standard Deviation:  0.11 \n",
      "\n",
      "Iris-virginica for attribute  petalwidth\n",
      "Median: 2.0\n",
      "Mode:  ModeResult(mode=array([1.8]), count=array([11]))\n",
      "Mean:  2.03\n",
      "Min-Wert:  1.4\n",
      "Max-Wert:  2.5\n",
      "Standard Deviation:  0.27 \n",
      "\n",
      "Iris-versicolor for attribute  petalwidth\n",
      "Median: 1.3\n",
      "Mode:  ModeResult(mode=array([1.3]), count=array([13]))\n",
      "Mean:  1.33\n",
      "Min-Wert:  1.0\n",
      "Max-Wert:  1.8\n",
      "Standard Deviation:  0.2 \n",
      "\n"
     ]
    }
   ],
   "source": [
    "name = ['Iris-setosa', 'Iris-virginica', 'Iris-versicolor']\n",
    "attribute = ['sepallength', 'sepalwidth', 'petallength', 'petalwidth']\n",
    "\n",
    "for att in attribute:\n",
    "    for n in name:\n",
    "        data = calc(n, att)\n",
    "        print(n, 'for attribute ', att)\n",
    "        print('Median:',median(data))\n",
    "        print('Mode: ',mode(data))\n",
    "        print('Mean: ',mean(data))\n",
    "        print('Min-Wert: ', min(data))\n",
    "        print('Max-Wert: ',max(data))\n",
    "        print('Standard Deviation: ',std_deviation(data),'\\n')"
   ]
  },
  {
   "cell_type": "code",
   "execution_count": 9,
   "metadata": {
    "scrolled": true
   },
   "outputs": [
    {
     "data": {
      "image/png": "[encoded data removed]",
      "text/plain": [
       "<Figure size 576x396 with 1 Axes>"
      ]
     },
     "metadata": {},
     "output_type": "display_data"
    }
   ],
   "source": [
    "#f,ax=plt.subplots(1,2,figsize=(18,8))\n",
    "sns.countplot('class',data=iris)\n",
    "#ax.set_title('Iris Species Count')\n",
    "plt.show()"
   ]
  },
  {
   "cell_type": "markdown",
   "metadata": {},
   "source": [
    "**Beobachtungen:**\n",
    "- es liegen jeweils 50 Proben zu den Irisarten vor\n",
    "- Datensatz ist ausgeglichen\n"
   ]
  },
  {
   "cell_type": "markdown",
   "metadata": {},
   "source": [
    "# KORREKTUR\n",
    "- In diesem Beispiel ist die Wahl einer Majority class unrelevant da jede der 3 Klassen (Iris-setosa, Iris-versicolor, Iris-virginica) gewählt werden kann.Sie sind jeweils zu 33,3% vertreten und können ebenfalls mit gleicher Wahrscheinlichkeit bestimmt werden. Typischerweise wird an dieser Stelle jedoch Iris-setosa präferiert."
   ]
  },
  {
   "cell_type": "markdown",
   "metadata": {},
   "source": [
    "## 3. Explore your data with different visualizations. From this exploration, which assumption can you  make  concerning  the  four  attributes  to  predict  the  class  of  an  iris  flower?  Explain  your answer."
   ]
  },
  {
   "cell_type": "markdown",
   "metadata": {},
   "source": [
    "### 3.1. Histogram\n",
    "### 3.2. Scatterplot\n",
    "### 3.3. Boxplot\n",
    "### 3.4. RadViz Plot\n"
   ]
  },
  {
   "cell_type": "markdown",
   "metadata": {},
   "source": [
    "## 3.1. Histogram:"
   ]
  },
  {
   "cell_type": "code",
   "execution_count": 10,
   "metadata": {},
   "outputs": [
    {
     "data": {
      "image/png": "[encoded data removed]",
      "text/plain": [
       "<Figure size 311.125x216 with 1 Axes>"
      ]
     },
     "metadata": {},
     "output_type": "display_data"
    },
    {
     "data": {
      "image/png": "[encoded data removed]",
      "text/plain": [
       "<Figure size 311.125x216 with 1 Axes>"
      ]
     },
     "metadata": {},
     "output_type": "display_data"
    },
    {
     "data": {
      "image/png": "[encoded data removed]",
      "text/plain": [
       "<Figure size 311.125x216 with 1 Axes>"
      ]
     },
     "metadata": {},
     "output_type": "display_data"
    },
    {
     "data": {
      "image/png": "[encoded data removed]",
      "text/plain": [
       "<Figure size 311.125x216 with 1 Axes>"
      ]
     },
     "metadata": {},
     "output_type": "display_data"
    }
   ],
   "source": [
    "sns.FacetGrid(iris,hue=\"class\",height=3).map(sns.distplot,\"petallength\").add_legend()\n",
    "sns.FacetGrid(iris,hue=\"class\",height=3).map(sns.distplot,\"petalwidth\").add_legend()\n",
    "sns.FacetGrid(iris,hue=\"class\",height=3).map(sns.distplot,\"sepallength\").add_legend()\n",
    "sns.FacetGrid(iris,hue=\"class\",height=3).map(sns.distplot,\"sepalwidth\").add_legend()\n",
    "plt.show()"
   ]
  },
  {
   "cell_type": "markdown",
   "metadata": {},
   "source": [
    "**Beobachtungen:**\n",
    "\n",
    "- mit petallength und petalwidth kann die iris-setosa unterschieden werden, die Verteilung ist nicht gleichmäßig: beide Merkmale grenzen sich ab\n",
    "- sepallength und sepalwidth überschneiden sich stark und di Iris Art kann nicht abgelesen werden \n",
    "- mit petallength kann Iris-setosa eindeutig abgegrenzt werden"
   ]
  },
  {
   "cell_type": "markdown",
   "metadata": {},
   "source": [
    "## 3.2 Scatterplot"
   ]
  },
  {
   "cell_type": "code",
   "execution_count": 11,
   "metadata": {},
   "outputs": [
    {
     "data": {
      "text/plain": [
       "<Figure size 576x396 with 0 Axes>"
      ]
     },
     "metadata": {},
     "output_type": "display_data"
    },
    {
     "data": {
      "image/png": "[encoded data removed]",
      "text/plain": [
       "<Figure size 1512x720 with 2 Axes>"
      ]
     },
     "metadata": {},
     "output_type": "display_data"
    }
   ],
   "source": [
    "setosa=df[df['class']=='Iris-setosa']\n",
    "versicolor =df[df['class']=='Iris-versicolor']\n",
    "virginica =df[df['class']=='Iris-virginica']\n",
    "\n",
    "plt.figure()\n",
    "fig,ax=plt.subplots(1,2,figsize=(21, 10))\n",
    "\n",
    "setosa.plot(x=\"sepallength\", y=\"sepalwidth\", kind=\"scatter\",ax=ax[0],label='setosa',color='r')\n",
    "versicolor.plot(x=\"sepallength\",y=\"sepalwidth\",kind=\"scatter\",ax=ax[0],label='versicolor',color='b')\n",
    "virginica.plot(x=\"sepallength\", y=\"sepalwidth\", kind=\"scatter\", ax=ax[0], label='virginica', color='g')\n",
    "\n",
    "setosa.plot(x=\"petallength\", y=\"petalwidth\", kind=\"scatter\",ax=ax[1],label='setosa',color='r')\n",
    "versicolor.plot(x=\"petallength\",y=\"petalwidth\",kind=\"scatter\",ax=ax[1],label='versicolor',color='b')\n",
    "virginica.plot(x=\"petallength\", y=\"petalwidth\", kind=\"scatter\", ax=ax[1], label='virginica', color='g')\n",
    "\n",
    "_=ax[0].set(title='Sepal comparasion ', ylabel='sepal-width')\n",
    "_=ax[1].set(title='Petal Comparasion',  ylabel='petal-width')\n",
    "_=ax[0].legend()\n",
    "_=ax[1].legend()\n",
    "# plt.show()\n",
    "# plt.close()"
   ]
  },
  {
   "cell_type": "markdown",
   "metadata": {},
   "source": [
    "**Beobachtungen:**\n",
    "\n",
    "- ist petallength ≤ 2cm und petallwidth ≤ 0.8cm dann ist es die Art Iris-setosa\n",
    "- ist petallength ≥ 3cm und ≤ 5.5cm und petalwidth  ≥ 1cm und ≤ 1.5cm dann ist es die Art Iris-versicolor\n",
    "- weder noch, dann ist die Art Iris-virginica\n",
    "\n",
    "\n",
    "- sepallength liefert aufgrund der Überschneidungen keine Ergebnisse\n",
    "- anhand der sepalwidth kann die Iris-setosa noch unterschieden werden"
   ]
  },
  {
   "cell_type": "markdown",
   "metadata": {},
   "source": [
    "## 3.3 Boxplot:"
   ]
  },
  {
   "cell_type": "code",
   "execution_count": 12,
   "metadata": {
    "scrolled": false
   },
   "outputs": [
    {
     "data": {
      "image/png": "[encoded data removed]",
      "text/plain": [
       "<Figure size 864x432 with 4 Axes>"
      ]
     },
     "metadata": {},
     "output_type": "display_data"
    }
   ],
   "source": [
    "iris.boxplot(by=\"class\", figsize=(12, 6))\n",
    "pass"
   ]
  },
  {
   "cell_type": "markdown",
   "metadata": {},
   "source": [
    "**Beobachtungen:**\n",
    "\n",
    "sepallength:\n",
    "- Iris-verginica größten Wertebereich, max 8cm \n",
    "- Ausreißer: ca. 5cm\n",
    "----------------------------------------------------------------------\n",
    "sepalwidth:\n",
    "- Iris-setosa hat den größten Wertebereich\n",
    "- sepalwidth weißt hier wenig Unterscheidungen zwischen den Arten auf\n",
    "- Iris-virginica hat die höchste Anzahl an Ausreißern\n",
    "\n",
    "----------------------------------------------------------------------\n",
    "petalwidth:\n",
    "- Iris-setosa hat einen sehr kleinen Wertebereich\n",
    "----------------------------------------------------------------------\n",
    "petallength\n",
    "- Iris-setosa hat eine wesentlich geringere petallength (ca 1-2cm) als die anderen Arten\n",
    "- Iris-virginica hat einen größeren Wertebereich als die beiden anderen Arten \n",
    "- Iris-setosa hat Ausreißer\n",
    "- Iris-virginica hat die höchste Anzahl an Ausreißern\n",
    "\n",
    "\n"
   ]
  },
  {
   "cell_type": "markdown",
   "metadata": {},
   "source": [
    "## 3.4 Radviz Plot:"
   ]
  },
  {
   "cell_type": "code",
   "execution_count": 26,
   "metadata": {
    "scrolled": false
   },
   "outputs": [
    {
     "data": {
      "image/png": "[encoded data removed]",
      "text/plain": [
       "<Figure size 576x396 with 1 Axes>"
      ]
     },
     "metadata": {},
     "output_type": "display_data"
    }
   ],
   "source": [
    "radviz(iris, \"class\")\n",
    "plt.show()"
   ]
  },
  {
   "cell_type": "markdown",
   "metadata": {},
   "source": [
    "**Beobachtung:**\n",
    "- Radviz-Plot zeigt multivariate Verteilung der drei Arten\n",
    "- Attribute in eiem Kreis dargestellt\n",
    "- oberes Cluster zeigt Iris-setosa, identifizierbar anhand der sepalwidth\n",
    "- Iris-versicolor und Iris-virginica überlappen sich und können nicht unterschieden werden (zu ähnliche Werte)\n"
   ]
  },
  {
   "cell_type": "markdown",
   "metadata": {},
   "source": [
    "# KORREKTUR:\n",
    "- Jedes betrachtete Element wird mit der funktion  [\"normalize\"](https://www.scikit-yb.org/en/latest/api/features/radviz.html ) auf die Skala [0,1] angepasst. So ist es möglich die Datenpunkte innerhalb eines einheitlichen Spektrums darzustellen."
   ]
  },
  {
   "cell_type": "markdown",
   "metadata": {},
   "source": [
    "## 4.  Clustering  as  classification:  Cluster  the  data  into  three  clusters  (you  are  free  to  try  out different clustering algorithmsand different attribute selection / transformation) and calculate the  accuracy  (proportions  of  objects  in  the  right  clusters).This  kindof  evaluation  is  called extrinsic: we have got the class as “ground truth” to compare the clusters with."
   ]
  },
  {
   "cell_type": "markdown",
   "metadata": {},
   "source": [
    "### K Means"
   ]
  },
  {
   "cell_type": "code",
   "execution_count": 76,
   "metadata": {
    "scrolled": true
   },
   "outputs": [
    {
     "data": {
      "image/png": "[encoded data removed]",
      "text/plain": [
       "<Figure size 432x288 with 1 Axes>"
      ]
     },
     "metadata": {
      "needs_background": "light"
     },
     "output_type": "display_data"
    }
   ],
   "source": [
    "from sklearn.cluster import KMeans\n",
    "\n",
    "X = iris_data[: , 2:4]\n",
    "\n",
    "num_clusters = 3\n",
    "\n",
    "#calculate k_means with @num_clusters clusters\n",
    "kmeans = KMeans(n_clusters=num_clusters).fit(X)\n",
    "labels = kmeans.labels_\n",
    "\n",
    "plt.xlabel('petallength')\n",
    "plt.ylabel('petalwidth')\n",
    "_ = plt.scatter(X[:, 0], X[:, 1], c=kmeans.labels_.astype(float))"
   ]
  },
  {
   "cell_type": "markdown",
   "metadata": {},
   "source": [
    "### EM Clustering"
   ]
  },
  {
   "cell_type": "code",
   "execution_count": 77,
   "metadata": {},
   "outputs": [
    {
     "data": {
      "text/plain": [
       "<matplotlib.collections.PathCollection at 0x7f3da4425040>"
      ]
     },
     "execution_count": 77,
     "metadata": {},
     "output_type": "execute_result"
    },
    {
     "data": {
      "image/png": "[encoded data removed]",
      "text/plain": [
       "<Figure size 432x288 with 1 Axes>"
      ]
     },
     "metadata": {
      "needs_background": "light"
     },
     "output_type": "display_data"
    }
   ],
   "source": [
    "num_clusters = 3\n",
    "iris_data = df.to_numpy()\n",
    "\n",
    "X = iris_data[: , 2:4]\n",
    "\n",
    "gmm = GaussianMixture(n_components=num_clusters)\n",
    "gmm.fit(X)\n",
    "labels = gmm.predict(X)\n",
    "\n",
    "plt.xlabel('petallength')\n",
    "plt.ylabel('petalwidth')\n",
    "plt.scatter(X[:, 0], X[:, 1], c=labels)"
   ]
  },
  {
   "cell_type": "markdown",
   "metadata": {},
   "source": [
    "### X Means"
   ]
  },
  {
   "cell_type": "code",
   "execution_count": 81,
   "metadata": {
    "scrolled": false
   },
   "outputs": [
    {
     "data": {
      "image/png": "[encoded data removed]",
      "text/plain": [
       "<Figure size 432x288 with 1 Axes>"
      ]
     },
     "metadata": {
      "needs_background": "light"
     },
     "output_type": "display_data"
    }
   ],
   "source": [
    "import sys\n",
    "sys.path.append(\"/home/kilkla/.local/lib/python3.7/site-packages/\")\n",
    "from pyclustering.cluster.center_initializer import kmeans_plusplus_initializer\n",
    "from pyclustering.cluster import cluster_visualizer\n",
    "from pyclustering.cluster.xmeans import xmeans\n",
    "\n",
    "X = iris_data[:, 2:4]\n",
    "\n",
    "amount_initial_centers = 3\n",
    "amount_max_centers = 3\n",
    "initial_centers = kmeans_plusplus_initializer(X, amount_initial_centers).initialize()\n",
    "xmeans_instance = xmeans(X, initial_centers, amount_max_centers)\n",
    "xmeans_instance.process()\n",
    "\n",
    "clusters = xmeans_instance.get_clusters()\n",
    "\n",
    "visualizer = cluster_visualizer()\n",
    "visualizer.append_clusters(clusters, X)\n",
    "_ = visualizer.show()"
   ]
  },
  {
   "cell_type": "markdown",
   "metadata": {},
   "source": [
    "### Measuring cluster quality"
   ]
  },
  {
   "cell_type": "markdown",
   "metadata": {},
   "source": [
    "BCUBED PRECISION:\n",
    "\n",
    "Anzahl an Pflanzen der Klasse K in einem Cluster C - 1\n",
    "__________________________________________________\n",
    "\n",
    "Anzahl aller Elemente in dem Cluster - 1\n"
   ]
  },
  {
   "cell_type": "code",
   "execution_count": 83,
   "metadata": {
    "scrolled": true
   },
   "outputs": [
    {
     "name": "stdout",
     "output_type": "stream",
     "text": [
      "------------------ CLUSTER  1  -----------------\n",
      "Element # 50 | BCubed Precision : 0.9787234042553191\n",
      "\n",
      "Element # 51 | BCubed Precision : 0.9787234042553191\n",
      "\n",
      "Element # 52 | BCubed Precision : 0.9787234042553191\n",
      "\n",
      "Element # 53 | BCubed Precision : 0.9787234042553191\n",
      "\n",
      "Element # 54 | BCubed Precision : 0.9787234042553191\n",
      "\n",
      "Element # 55 | BCubed Precision : 0.9787234042553191\n",
      "\n",
      "Element # 56 | BCubed Precision : 0.9787234042553191\n",
      "\n",
      "Element # 57 | BCubed Precision : 0.9787234042553191\n",
      "\n",
      "Element # 58 | BCubed Precision : 0.9787234042553191\n",
      "\n",
      "Element # 59 | BCubed Precision : 0.9787234042553191\n",
      "\n",
      "Element # 60 | BCubed Precision : 0.9787234042553191\n",
      "\n",
      "Element # 61 | BCubed Precision : 0.9787234042553191\n",
      "\n",
      "Element # 62 | BCubed Precision : 0.9787234042553191\n",
      "\n",
      "Element # 63 | BCubed Precision : 0.9787234042553191\n",
      "\n",
      "Element # 64 | BCubed Precision : 0.9787234042553191\n",
      "\n",
      "Element # 65 | BCubed Precision : 0.9787234042553191\n",
      "\n",
      "Element # 66 | BCubed Precision : 0.9787234042553191\n",
      "\n",
      "Element # 67 | BCubed Precision : 0.9787234042553191\n",
      "\n",
      "Element # 68 | BCubed Precision : 0.9787234042553191\n",
      "\n",
      "Element # 69 | BCubed Precision : 0.9787234042553191\n",
      "\n",
      "Element # 71 | BCubed Precision : 0.9787234042553191\n",
      "\n",
      "Element # 72 | BCubed Precision : 0.9787234042553191\n",
      "\n",
      "Element # 73 | BCubed Precision : 0.9787234042553191\n",
      "\n",
      "Element # 74 | BCubed Precision : 0.9787234042553191\n",
      "\n",
      "Element # 75 | BCubed Precision : 0.9787234042553191\n",
      "\n",
      "Element # 76 | BCubed Precision : 0.9787234042553191\n",
      "\n",
      "Element # 78 | BCubed Precision : 0.9787234042553191\n",
      "\n",
      "Element # 79 | BCubed Precision : 0.9787234042553191\n",
      "\n",
      "Element # 80 | BCubed Precision : 0.9787234042553191\n",
      "\n",
      "Element # 81 | BCubed Precision : 0.9787234042553191\n",
      "\n",
      "Element # 82 | BCubed Precision : 0.9787234042553191\n",
      "\n",
      "Element # 84 | BCubed Precision : 0.9787234042553191\n",
      "\n",
      "Element # 85 | BCubed Precision : 0.9787234042553191\n",
      "\n",
      "Element # 86 | BCubed Precision : 0.9787234042553191\n",
      "\n",
      "Element # 87 | BCubed Precision : 0.9787234042553191\n",
      "\n",
      "Element # 88 | BCubed Precision : 0.9787234042553191\n",
      "\n",
      "Element # 89 | BCubed Precision : 0.9787234042553191\n",
      "\n",
      "Element # 90 | BCubed Precision : 0.9787234042553191\n",
      "\n",
      "Element # 91 | BCubed Precision : 0.9787234042553191\n",
      "\n",
      "Element # 92 | BCubed Precision : 0.9787234042553191\n",
      "\n",
      "Element # 93 | BCubed Precision : 0.9787234042553191\n",
      "\n",
      "Element # 94 | BCubed Precision : 0.9787234042553191\n",
      "\n",
      "Element # 95 | BCubed Precision : 0.9787234042553191\n",
      "\n",
      "Element # 96 | BCubed Precision : 0.9787234042553191\n",
      "\n",
      "Element # 97 | BCubed Precision : 0.9787234042553191\n",
      "\n",
      "Element # 98 | BCubed Precision : 0.9787234042553191\n",
      "\n",
      "Element # 99 | BCubed Precision : 0.9787234042553191\n",
      "\n",
      "Element # 106 | BCubed Precision : 0.0\n",
      "\n",
      "------------------ CLUSTER  2  -----------------\n",
      "Element # 0 | BCubed Precision : 1.0\n",
      "\n",
      "Element # 1 | BCubed Precision : 1.0\n",
      "\n",
      "Element # 2 | BCubed Precision : 1.0\n",
      "\n",
      "Element # 3 | BCubed Precision : 1.0\n",
      "\n",
      "Element # 4 | BCubed Precision : 1.0\n",
      "\n",
      "Element # 5 | BCubed Precision : 1.0\n",
      "\n",
      "Element # 6 | BCubed Precision : 1.0\n",
      "\n",
      "Element # 7 | BCubed Precision : 1.0\n",
      "\n",
      "Element # 8 | BCubed Precision : 1.0\n",
      "\n",
      "Element # 9 | BCubed Precision : 1.0\n",
      "\n",
      "Element # 10 | BCubed Precision : 1.0\n",
      "\n",
      "Element # 11 | BCubed Precision : 1.0\n",
      "\n",
      "Element # 12 | BCubed Precision : 1.0\n",
      "\n",
      "Element # 13 | BCubed Precision : 1.0\n",
      "\n",
      "Element # 14 | BCubed Precision : 1.0\n",
      "\n",
      "Element # 15 | BCubed Precision : 1.0\n",
      "\n",
      "Element # 16 | BCubed Precision : 1.0\n",
      "\n",
      "Element # 17 | BCubed Precision : 1.0\n",
      "\n",
      "Element # 18 | BCubed Precision : 1.0\n",
      "\n",
      "Element # 19 | BCubed Precision : 1.0\n",
      "\n",
      "Element # 20 | BCubed Precision : 1.0\n",
      "\n",
      "Element # 21 | BCubed Precision : 1.0\n",
      "\n",
      "Element # 22 | BCubed Precision : 1.0\n",
      "\n",
      "Element # 23 | BCubed Precision : 1.0\n",
      "\n",
      "Element # 24 | BCubed Precision : 1.0\n",
      "\n",
      "Element # 25 | BCubed Precision : 1.0\n",
      "\n",
      "Element # 26 | BCubed Precision : 1.0\n",
      "\n",
      "Element # 27 | BCubed Precision : 1.0\n",
      "\n",
      "Element # 28 | BCubed Precision : 1.0\n",
      "\n",
      "Element # 29 | BCubed Precision : 1.0\n",
      "\n",
      "Element # 30 | BCubed Precision : 1.0\n",
      "\n",
      "Element # 31 | BCubed Precision : 1.0\n",
      "\n",
      "Element # 32 | BCubed Precision : 1.0\n",
      "\n",
      "Element # 33 | BCubed Precision : 1.0\n",
      "\n",
      "Element # 34 | BCubed Precision : 1.0\n",
      "\n",
      "Element # 35 | BCubed Precision : 1.0\n",
      "\n",
      "Element # 36 | BCubed Precision : 1.0\n",
      "\n",
      "Element # 37 | BCubed Precision : 1.0\n",
      "\n",
      "Element # 38 | BCubed Precision : 1.0\n",
      "\n",
      "Element # 39 | BCubed Precision : 1.0\n",
      "\n",
      "Element # 40 | BCubed Precision : 1.0\n",
      "\n",
      "Element # 41 | BCubed Precision : 1.0\n",
      "\n",
      "Element # 42 | BCubed Precision : 1.0\n",
      "\n",
      "Element # 43 | BCubed Precision : 1.0\n",
      "\n",
      "Element # 44 | BCubed Precision : 1.0\n",
      "\n",
      "Element # 45 | BCubed Precision : 1.0\n",
      "\n",
      "Element # 46 | BCubed Precision : 1.0\n",
      "\n",
      "Element # 47 | BCubed Precision : 1.0\n",
      "\n",
      "Element # 48 | BCubed Precision : 1.0\n",
      "\n",
      "Element # 49 | BCubed Precision : 1.0\n",
      "\n",
      "------------------ CLUSTER  3  -----------------\n",
      "Element # 70 | BCubed Precision : 0.0392156862745098\n",
      "\n",
      "Element # 77 | BCubed Precision : 0.0392156862745098\n",
      "\n",
      "Element # 83 | BCubed Precision : 0.0392156862745098\n",
      "\n",
      "Element # 100 | BCubed Precision : 0.9411764705882353\n",
      "\n",
      "Element # 101 | BCubed Precision : 0.9411764705882353\n",
      "\n",
      "Element # 102 | BCubed Precision : 0.9411764705882353\n",
      "\n",
      "Element # 103 | BCubed Precision : 0.9411764705882353\n",
      "\n",
      "Element # 104 | BCubed Precision : 0.9411764705882353\n",
      "\n",
      "Element # 105 | BCubed Precision : 0.9411764705882353\n",
      "\n",
      "Element # 107 | BCubed Precision : 0.9411764705882353\n",
      "\n",
      "Element # 108 | BCubed Precision : 0.9411764705882353\n",
      "\n",
      "Element # 109 | BCubed Precision : 0.9411764705882353\n",
      "\n",
      "Element # 110 | BCubed Precision : 0.9411764705882353\n",
      "\n",
      "Element # 111 | BCubed Precision : 0.9411764705882353\n",
      "\n",
      "Element # 112 | BCubed Precision : 0.9411764705882353\n",
      "\n",
      "Element # 113 | BCubed Precision : 0.9411764705882353\n",
      "\n",
      "Element # 114 | BCubed Precision : 0.9411764705882353\n",
      "\n",
      "Element # 115 | BCubed Precision : 0.9411764705882353\n",
      "\n",
      "Element # 116 | BCubed Precision : 0.9411764705882353\n",
      "\n",
      "Element # 117 | BCubed Precision : 0.9411764705882353\n",
      "\n",
      "Element # 118 | BCubed Precision : 0.9411764705882353\n",
      "\n",
      "Element # 119 | BCubed Precision : 0.9411764705882353\n",
      "\n",
      "Element # 120 | BCubed Precision : 0.9411764705882353\n",
      "\n",
      "Element # 121 | BCubed Precision : 0.9411764705882353\n",
      "\n",
      "Element # 122 | BCubed Precision : 0.9411764705882353\n",
      "\n",
      "Element # 123 | BCubed Precision : 0.9411764705882353\n",
      "\n",
      "Element # 124 | BCubed Precision : 0.9411764705882353\n",
      "\n",
      "Element # 125 | BCubed Precision : 0.9411764705882353\n",
      "\n",
      "Element # 126 | BCubed Precision : 0.9411764705882353\n",
      "\n",
      "Element # 127 | BCubed Precision : 0.9411764705882353\n",
      "\n",
      "Element # 128 | BCubed Precision : 0.9411764705882353\n",
      "\n",
      "Element # 129 | BCubed Precision : 0.9411764705882353\n",
      "\n",
      "Element # 130 | BCubed Precision : 0.9411764705882353\n",
      "\n",
      "Element # 131 | BCubed Precision : 0.9411764705882353\n",
      "\n",
      "Element # 132 | BCubed Precision : 0.9411764705882353\n",
      "\n",
      "Element # 133 | BCubed Precision : 0.9411764705882353\n",
      "\n",
      "Element # 134 | BCubed Precision : 0.9411764705882353\n",
      "\n",
      "Element # 135 | BCubed Precision : 0.9411764705882353\n",
      "\n",
      "Element # 136 | BCubed Precision : 0.9411764705882353\n",
      "\n",
      "Element # 137 | BCubed Precision : 0.9411764705882353\n",
      "\n",
      "Element # 138 | BCubed Precision : 0.9411764705882353\n",
      "\n",
      "Element # 139 | BCubed Precision : 0.9411764705882353\n",
      "\n",
      "Element # 140 | BCubed Precision : 0.9411764705882353\n",
      "\n",
      "Element # 141 | BCubed Precision : 0.9411764705882353\n",
      "\n",
      "Element # 142 | BCubed Precision : 0.9411764705882353\n",
      "\n",
      "Element # 143 | BCubed Precision : 0.9411764705882353\n",
      "\n",
      "Element # 144 | BCubed Precision : 0.9411764705882353\n",
      "\n",
      "Element # 145 | BCubed Precision : 0.9411764705882353\n",
      "\n",
      "Element # 146 | BCubed Precision : 0.9411764705882353\n",
      "\n",
      "Element # 147 | BCubed Precision : 0.9411764705882353\n",
      "\n",
      "Element # 148 | BCubed Precision : 0.9411764705882353\n",
      "\n",
      "Element # 149 | BCubed Precision : 0.9411764705882353\n",
      "\n"
     ]
    }
   ],
   "source": [
    "def getObjectForNum(elem):            \n",
    "    return(iris_data[elem])\n",
    "\n",
    "\n",
    "def correctness_of_elem(elem, cluster):\n",
    "    num_elem_in_the_cluster=0\n",
    "    num_elem_same_class=0\n",
    "    \n",
    "    class_des_elem = getObjectForNum(elem)[4]\n",
    "    \n",
    "    for other_elem in cluster:\n",
    "        if (getObjectForNum(other_elem)[4] == class_des_elem):\n",
    "            num_elem_same_class = num_elem_same_class + 1\n",
    "            \n",
    "        num_elem_in_the_cluster = num_elem_in_the_cluster + 1\n",
    "\n",
    "    return ((num_elem_same_class - 1) / abs(num_elem_in_the_cluster - 1 ))\n",
    "\n",
    "\n",
    "cluster_count = 1\n",
    "for cluster in clusters:\n",
    "    print(\"------------------ CLUSTER \", cluster_count, \" -----------------\")\n",
    "    for elem in cluster:\n",
    "        print(\"Element #\", elem, \"| BCubed Precision :\" ,correctness_of_elem(elem, cluster))\n",
    "        print(\"\")\n",
    "    \n",
    "    cluster_count = cluster_count + 1"
   ]
  },
  {
   "cell_type": "markdown",
   "metadata": {},
   "source": [
    "# KORREKTUR:\n",
    "**falsch zugeordnete Elemente:**\n",
    "- Element # 106 | BCubed Precision : 0.0\n",
    "- Element # 70 | BCubed Precision : 0.0392156862745098\n",
    "- Element # 77 | BCubed Precision : 0.0392156862745098\n",
    "- Element # 83 | BCubed Precision : 0.0392156862745098\n"
   ]
  },
  {
   "cell_type": "markdown",
   "metadata": {},
   "source": [
    "## 5. Classify your data with a decision tree without pruning using information gain and then Gini index  (more  if  you  wish). Report  all  the  trees  you  have  obtained,  give  for  each  of  them  the height or maximal depth (the root has the height 0), the total number of nodes and number of leaves as well as the number of rules to predict setosa, virginica and versicolor."
   ]
  },
  {
   "cell_type": "code",
   "execution_count": 57,
   "metadata": {
    "scrolled": true
   },
   "outputs": [
    {
     "data": {
      "text/html": [
       "<div>\n",
       "<style scoped>\n",
       "    .dataframe tbody tr th:only-of-type {\n",
       "        vertical-align: middle;\n",
       "    }\n",
       "\n",
       "    .dataframe tbody tr th {\n",
       "        vertical-align: top;\n",
       "    }\n",
       "\n",
       "    .dataframe thead th {\n",
       "        text-align: right;\n",
       "    }\n",
       "</style>\n",
       "<table border=\"1\" class=\"dataframe\">\n",
       "  <thead>\n",
       "    <tr style=\"text-align: right;\">\n",
       "      <th></th>\n",
       "      <th>sepallength</th>\n",
       "      <th>sepalwidth</th>\n",
       "      <th>petallength</th>\n",
       "      <th>petalwidth</th>\n",
       "    </tr>\n",
       "  </thead>\n",
       "  <tbody>\n",
       "    <tr>\n",
       "      <th>count</th>\n",
       "      <td>150.000000</td>\n",
       "      <td>150.000000</td>\n",
       "      <td>150.000000</td>\n",
       "      <td>150.000000</td>\n",
       "    </tr>\n",
       "    <tr>\n",
       "      <th>mean</th>\n",
       "      <td>5.843333</td>\n",
       "      <td>3.054000</td>\n",
       "      <td>3.758667</td>\n",
       "      <td>1.198667</td>\n",
       "    </tr>\n",
       "    <tr>\n",
       "      <th>std</th>\n",
       "      <td>0.828066</td>\n",
       "      <td>0.433594</td>\n",
       "      <td>1.764420</td>\n",
       "      <td>0.763161</td>\n",
       "    </tr>\n",
       "    <tr>\n",
       "      <th>min</th>\n",
       "      <td>4.300000</td>\n",
       "      <td>2.000000</td>\n",
       "      <td>1.000000</td>\n",
       "      <td>0.100000</td>\n",
       "    </tr>\n",
       "    <tr>\n",
       "      <th>25%</th>\n",
       "      <td>5.100000</td>\n",
       "      <td>2.800000</td>\n",
       "      <td>1.600000</td>\n",
       "      <td>0.300000</td>\n",
       "    </tr>\n",
       "    <tr>\n",
       "      <th>50%</th>\n",
       "      <td>5.800000</td>\n",
       "      <td>3.000000</td>\n",
       "      <td>4.350000</td>\n",
       "      <td>1.300000</td>\n",
       "    </tr>\n",
       "    <tr>\n",
       "      <th>75%</th>\n",
       "      <td>6.400000</td>\n",
       "      <td>3.300000</td>\n",
       "      <td>5.100000</td>\n",
       "      <td>1.800000</td>\n",
       "    </tr>\n",
       "    <tr>\n",
       "      <th>max</th>\n",
       "      <td>7.900000</td>\n",
       "      <td>4.400000</td>\n",
       "      <td>6.900000</td>\n",
       "      <td>2.500000</td>\n",
       "    </tr>\n",
       "  </tbody>\n",
       "</table>\n",
       "</div>"
      ],
      "text/plain": [
       "       sepallength  sepalwidth  petallength  petalwidth\n",
       "count   150.000000  150.000000   150.000000  150.000000\n",
       "mean      5.843333    3.054000     3.758667    1.198667\n",
       "std       0.828066    0.433594     1.764420    0.763161\n",
       "min       4.300000    2.000000     1.000000    0.100000\n",
       "25%       5.100000    2.800000     1.600000    0.300000\n",
       "50%       5.800000    3.000000     4.350000    1.300000\n",
       "75%       6.400000    3.300000     5.100000    1.800000\n",
       "max       7.900000    4.400000     6.900000    2.500000"
      ]
     },
     "execution_count": 57,
     "metadata": {},
     "output_type": "execute_result"
    }
   ],
   "source": [
    "df.describe()"
   ]
  },
  {
   "cell_type": "code",
   "execution_count": 73,
   "metadata": {
    "scrolled": false
   },
   "outputs": [
    {
     "name": "stdout",
     "output_type": "stream",
     "text": [
      "Accuracy, Testset:  95.55556 %\n"
     ]
    }
   ],
   "source": [
    "#split dataset into two types of variables dependent(or target variable) and independent variable(or feature variables)\n",
    "feature_cols = ['sepallength', 'sepalwidth', 'petallength', 'petalwidth']\n",
    "target = ['class']\n",
    "X = df[feature_cols]\n",
    "y = df[target]\n",
    "\n",
    "# Split dataset into training set and test set\n",
    "X_train, X_test, y_train, y_test = train_test_split(X, y, test_size=0.3, random_state=1) # 70% training and 30% test\n",
    "\n",
    "# Create Decision Tree classifer object\n",
    "clf = DecisionTreeClassifier()\n",
    "\n",
    "# Train Decision Tree Classifer\n",
    "clf = clf.fit(X_train,y_train)\n",
    "\n",
    "#Predict the response for test dataset\n",
    "y_test_pred = clf.predict(X_test)\n",
    "\n",
    "# Model Accuracy, how often is the classifier correct?\n",
    "accuracy_test = clf.score(X_test, y_test)\n",
    "\n",
    "print('Accuracy, Testset: ', round(accuracy_test*100,5), '%')"
   ]
  },
  {
   "cell_type": "markdown",
   "metadata": {},
   "source": [
    "Wir erreichen eine Genauigkeit von 95% im Testset. Das heißt der Testsatz ist gut geeignet."
   ]
  },
  {
   "cell_type": "code",
   "execution_count": 74,
   "metadata": {
    "scrolled": false
   },
   "outputs": [
    {
     "data": {
      "image/svg+xml": [
       "<?xml version=\"1.0\" encoding=\"UTF-8\" standalone=\"no\"?>\n",
       "<!DOCTYPE svg PUBLIC \"-//W3C//DTD SVG 1.1//EN\"\n",
       " \"http://www.w3.org/Graphics/SVG/1.1/DTD/svg11.dtd\">\n",
       "<!-- Generated by graphviz version 2.43.0 (0)\n",
       " -->\n",
       "<!-- Title: Tree Pages: 1 -->\n",
       "<svg width=\"512pt\" height=\"552pt\"\n",
       " viewBox=\"0.00 0.00 511.50 552.00\" xmlns=\"http://www.w3.org/2000/svg\" xmlns:xlink=\"http://www.w3.org/1999/xlink\">\n",
       "<g id=\"graph0\" class=\"graph\" transform=\"scale(1 1) rotate(0) translate(4 548)\">\n",
       "<title>Tree</title>\n",
       "<polygon fill=\"white\" stroke=\"transparent\" points=\"-4,4 -4,-548 507.5,-548 507.5,4 -4,4\"/>\n",
       "<!-- 0 -->\n",
       "<g id=\"node1\" class=\"node\">\n",
       "<title>0</title>\n",
       "<path fill=\"#e5fcef\" stroke=\"black\" d=\"M229,-544C229,-544 87,-544 87,-544 81,-544 75,-538 75,-532 75,-532 75,-473 75,-473 75,-467 81,-461 87,-461 87,-461 229,-461 229,-461 235,-461 241,-467 241,-473 241,-473 241,-532 241,-532 241,-538 235,-544 229,-544\"/>\n",
       "<text text-anchor=\"middle\" x=\"158\" y=\"-528.8\" font-family=\"Helvetica,sans-Serif\" font-size=\"14.00\">petalwidth &lt;= 0.75</text>\n",
       "<text text-anchor=\"middle\" x=\"158\" y=\"-513.8\" font-family=\"Helvetica,sans-Serif\" font-size=\"14.00\">gini = 0.66</text>\n",
       "<text text-anchor=\"middle\" x=\"158\" y=\"-498.8\" font-family=\"Helvetica,sans-Serif\" font-size=\"14.00\">samples = 45</text>\n",
       "<text text-anchor=\"middle\" x=\"158\" y=\"-483.8\" font-family=\"Helvetica,sans-Serif\" font-size=\"14.00\">value = [14, 18, 13]</text>\n",
       "<text text-anchor=\"middle\" x=\"158\" y=\"-468.8\" font-family=\"Helvetica,sans-Serif\" font-size=\"14.00\">class = Iris&#45;versicolor</text>\n",
       "</g>\n",
       "<!-- 1 -->\n",
       "<g id=\"node2\" class=\"node\">\n",
       "<title>1</title>\n",
       "<path fill=\"#e58139\" stroke=\"black\" d=\"M132,-417.5C132,-417.5 12,-417.5 12,-417.5 6,-417.5 0,-411.5 0,-405.5 0,-405.5 0,-361.5 0,-361.5 0,-355.5 6,-349.5 12,-349.5 12,-349.5 132,-349.5 132,-349.5 138,-349.5 144,-355.5 144,-361.5 144,-361.5 144,-405.5 144,-405.5 144,-411.5 138,-417.5 132,-417.5\"/>\n",
       "<text text-anchor=\"middle\" x=\"72\" y=\"-402.3\" font-family=\"Helvetica,sans-Serif\" font-size=\"14.00\">gini = 0.0</text>\n",
       "<text text-anchor=\"middle\" x=\"72\" y=\"-387.3\" font-family=\"Helvetica,sans-Serif\" font-size=\"14.00\">samples = 14</text>\n",
       "<text text-anchor=\"middle\" x=\"72\" y=\"-372.3\" font-family=\"Helvetica,sans-Serif\" font-size=\"14.00\">value = [14, 0, 0]</text>\n",
       "<text text-anchor=\"middle\" x=\"72\" y=\"-357.3\" font-family=\"Helvetica,sans-Serif\" font-size=\"14.00\">class = Iris&#45;setosa</text>\n",
       "</g>\n",
       "<!-- 0&#45;&gt;1 -->\n",
       "<g id=\"edge1\" class=\"edge\">\n",
       "<title>0&#45;&gt;1</title>\n",
       "<path fill=\"none\" stroke=\"black\" d=\"M128.16,-460.91C119.81,-449.54 110.72,-437.18 102.34,-425.77\"/>\n",
       "<polygon fill=\"black\" stroke=\"black\" points=\"105.12,-423.65 96.38,-417.67 99.48,-427.8 105.12,-423.65\"/>\n",
       "<text text-anchor=\"middle\" x=\"92.61\" y=\"-438.68\" font-family=\"Helvetica,sans-Serif\" font-size=\"14.00\">True</text>\n",
       "</g>\n",
       "<!-- 2 -->\n",
       "<g id=\"node3\" class=\"node\">\n",
       "<title>2</title>\n",
       "<path fill=\"#c8f8dc\" stroke=\"black\" d=\"M316,-425C316,-425 174,-425 174,-425 168,-425 162,-419 162,-413 162,-413 162,-354 162,-354 162,-348 168,-342 174,-342 174,-342 316,-342 316,-342 322,-342 328,-348 328,-354 328,-354 328,-413 328,-413 328,-419 322,-425 316,-425\"/>\n",
       "<text text-anchor=\"middle\" x=\"245\" y=\"-409.8\" font-family=\"Helvetica,sans-Serif\" font-size=\"14.00\">petallength &lt;= 4.85</text>\n",
       "<text text-anchor=\"middle\" x=\"245\" y=\"-394.8\" font-family=\"Helvetica,sans-Serif\" font-size=\"14.00\">gini = 0.487</text>\n",
       "<text text-anchor=\"middle\" x=\"245\" y=\"-379.8\" font-family=\"Helvetica,sans-Serif\" font-size=\"14.00\">samples = 31</text>\n",
       "<text text-anchor=\"middle\" x=\"245\" y=\"-364.8\" font-family=\"Helvetica,sans-Serif\" font-size=\"14.00\">value = [0, 18, 13]</text>\n",
       "<text text-anchor=\"middle\" x=\"245\" y=\"-349.8\" font-family=\"Helvetica,sans-Serif\" font-size=\"14.00\">class = Iris&#45;versicolor</text>\n",
       "</g>\n",
       "<!-- 0&#45;&gt;2 -->\n",
       "<g id=\"edge2\" class=\"edge\">\n",
       "<title>0&#45;&gt;2</title>\n",
       "<path fill=\"none\" stroke=\"black\" d=\"M188.18,-460.91C194.86,-451.92 202.01,-442.32 208.9,-433.05\"/>\n",
       "<polygon fill=\"black\" stroke=\"black\" points=\"211.71,-435.13 214.87,-425.02 206.09,-430.96 211.71,-435.13\"/>\n",
       "<text text-anchor=\"middle\" x=\"218.51\" y=\"-446.05\" font-family=\"Helvetica,sans-Serif\" font-size=\"14.00\">False</text>\n",
       "</g>\n",
       "<!-- 3 -->\n",
       "<g id=\"node4\" class=\"node\">\n",
       "<title>3</title>\n",
       "<path fill=\"#39e581\" stroke=\"black\" d=\"M226,-298.5C226,-298.5 84,-298.5 84,-298.5 78,-298.5 72,-292.5 72,-286.5 72,-286.5 72,-242.5 72,-242.5 72,-236.5 78,-230.5 84,-230.5 84,-230.5 226,-230.5 226,-230.5 232,-230.5 238,-236.5 238,-242.5 238,-242.5 238,-286.5 238,-286.5 238,-292.5 232,-298.5 226,-298.5\"/>\n",
       "<text text-anchor=\"middle\" x=\"155\" y=\"-283.3\" font-family=\"Helvetica,sans-Serif\" font-size=\"14.00\">gini = 0.0</text>\n",
       "<text text-anchor=\"middle\" x=\"155\" y=\"-268.3\" font-family=\"Helvetica,sans-Serif\" font-size=\"14.00\">samples = 17</text>\n",
       "<text text-anchor=\"middle\" x=\"155\" y=\"-253.3\" font-family=\"Helvetica,sans-Serif\" font-size=\"14.00\">value = [0, 17, 0]</text>\n",
       "<text text-anchor=\"middle\" x=\"155\" y=\"-238.3\" font-family=\"Helvetica,sans-Serif\" font-size=\"14.00\">class = Iris&#45;versicolor</text>\n",
       "</g>\n",
       "<!-- 2&#45;&gt;3 -->\n",
       "<g id=\"edge3\" class=\"edge\">\n",
       "<title>2&#45;&gt;3</title>\n",
       "<path fill=\"none\" stroke=\"black\" d=\"M213.77,-341.91C205.03,-330.54 195.52,-318.18 186.75,-306.77\"/>\n",
       "<polygon fill=\"black\" stroke=\"black\" points=\"189.38,-304.46 180.51,-298.67 183.84,-308.73 189.38,-304.46\"/>\n",
       "</g>\n",
       "<!-- 4 -->\n",
       "<g id=\"node5\" class=\"node\">\n",
       "<title>4</title>\n",
       "<path fill=\"#8b48e7\" stroke=\"black\" d=\"M401.5,-306C401.5,-306 268.5,-306 268.5,-306 262.5,-306 256.5,-300 256.5,-294 256.5,-294 256.5,-235 256.5,-235 256.5,-229 262.5,-223 268.5,-223 268.5,-223 401.5,-223 401.5,-223 407.5,-223 413.5,-229 413.5,-235 413.5,-235 413.5,-294 413.5,-294 413.5,-300 407.5,-306 401.5,-306\"/>\n",
       "<text text-anchor=\"middle\" x=\"335\" y=\"-290.8\" font-family=\"Helvetica,sans-Serif\" font-size=\"14.00\">petalwidth &lt;= 1.75</text>\n",
       "<text text-anchor=\"middle\" x=\"335\" y=\"-275.8\" font-family=\"Helvetica,sans-Serif\" font-size=\"14.00\">gini = 0.133</text>\n",
       "<text text-anchor=\"middle\" x=\"335\" y=\"-260.8\" font-family=\"Helvetica,sans-Serif\" font-size=\"14.00\">samples = 14</text>\n",
       "<text text-anchor=\"middle\" x=\"335\" y=\"-245.8\" font-family=\"Helvetica,sans-Serif\" font-size=\"14.00\">value = [0, 1, 13]</text>\n",
       "<text text-anchor=\"middle\" x=\"335\" y=\"-230.8\" font-family=\"Helvetica,sans-Serif\" font-size=\"14.00\">class = Iris&#45;virginica</text>\n",
       "</g>\n",
       "<!-- 2&#45;&gt;4 -->\n",
       "<g id=\"edge4\" class=\"edge\">\n",
       "<title>2&#45;&gt;4</title>\n",
       "<path fill=\"none\" stroke=\"black\" d=\"M276.23,-341.91C283.14,-332.92 290.53,-323.32 297.65,-314.05\"/>\n",
       "<polygon fill=\"black\" stroke=\"black\" points=\"300.51,-316.08 303.83,-306.02 294.96,-311.81 300.51,-316.08\"/>\n",
       "</g>\n",
       "<!-- 5 -->\n",
       "<g id=\"node6\" class=\"node\">\n",
       "<title>5</title>\n",
       "<path fill=\"#ffffff\" stroke=\"black\" d=\"M316,-187C316,-187 174,-187 174,-187 168,-187 162,-181 162,-175 162,-175 162,-116 162,-116 162,-110 168,-104 174,-104 174,-104 316,-104 316,-104 322,-104 328,-110 328,-116 328,-116 328,-175 328,-175 328,-181 322,-187 316,-187\"/>\n",
       "<text text-anchor=\"middle\" x=\"245\" y=\"-171.8\" font-family=\"Helvetica,sans-Serif\" font-size=\"14.00\">petalwidth &lt;= 1.6</text>\n",
       "<text text-anchor=\"middle\" x=\"245\" y=\"-156.8\" font-family=\"Helvetica,sans-Serif\" font-size=\"14.00\">gini = 0.5</text>\n",
       "<text text-anchor=\"middle\" x=\"245\" y=\"-141.8\" font-family=\"Helvetica,sans-Serif\" font-size=\"14.00\">samples = 2</text>\n",
       "<text text-anchor=\"middle\" x=\"245\" y=\"-126.8\" font-family=\"Helvetica,sans-Serif\" font-size=\"14.00\">value = [0, 1, 1]</text>\n",
       "<text text-anchor=\"middle\" x=\"245\" y=\"-111.8\" font-family=\"Helvetica,sans-Serif\" font-size=\"14.00\">class = Iris&#45;versicolor</text>\n",
       "</g>\n",
       "<!-- 4&#45;&gt;5 -->\n",
       "<g id=\"edge5\" class=\"edge\">\n",
       "<title>4&#45;&gt;5</title>\n",
       "<path fill=\"none\" stroke=\"black\" d=\"M303.77,-222.91C296.86,-213.92 289.47,-204.32 282.35,-195.05\"/>\n",
       "<polygon fill=\"black\" stroke=\"black\" points=\"285.04,-192.81 276.17,-187.02 279.49,-197.08 285.04,-192.81\"/>\n",
       "</g>\n",
       "<!-- 8 -->\n",
       "<g id=\"node9\" class=\"node\">\n",
       "<title>8</title>\n",
       "<path fill=\"#8139e5\" stroke=\"black\" d=\"M491.5,-179.5C491.5,-179.5 358.5,-179.5 358.5,-179.5 352.5,-179.5 346.5,-173.5 346.5,-167.5 346.5,-167.5 346.5,-123.5 346.5,-123.5 346.5,-117.5 352.5,-111.5 358.5,-111.5 358.5,-111.5 491.5,-111.5 491.5,-111.5 497.5,-111.5 503.5,-117.5 503.5,-123.5 503.5,-123.5 503.5,-167.5 503.5,-167.5 503.5,-173.5 497.5,-179.5 491.5,-179.5\"/>\n",
       "<text text-anchor=\"middle\" x=\"425\" y=\"-164.3\" font-family=\"Helvetica,sans-Serif\" font-size=\"14.00\">gini = 0.0</text>\n",
       "<text text-anchor=\"middle\" x=\"425\" y=\"-149.3\" font-family=\"Helvetica,sans-Serif\" font-size=\"14.00\">samples = 12</text>\n",
       "<text text-anchor=\"middle\" x=\"425\" y=\"-134.3\" font-family=\"Helvetica,sans-Serif\" font-size=\"14.00\">value = [0, 0, 12]</text>\n",
       "<text text-anchor=\"middle\" x=\"425\" y=\"-119.3\" font-family=\"Helvetica,sans-Serif\" font-size=\"14.00\">class = Iris&#45;virginica</text>\n",
       "</g>\n",
       "<!-- 4&#45;&gt;8 -->\n",
       "<g id=\"edge8\" class=\"edge\">\n",
       "<title>4&#45;&gt;8</title>\n",
       "<path fill=\"none\" stroke=\"black\" d=\"M366.23,-222.91C374.97,-211.54 384.48,-199.18 393.25,-187.77\"/>\n",
       "<polygon fill=\"black\" stroke=\"black\" points=\"396.16,-189.73 399.49,-179.67 390.62,-185.46 396.16,-189.73\"/>\n",
       "</g>\n",
       "<!-- 6 -->\n",
       "<g id=\"node7\" class=\"node\">\n",
       "<title>6</title>\n",
       "<path fill=\"#8139e5\" stroke=\"black\" d=\"M221.5,-68C221.5,-68 88.5,-68 88.5,-68 82.5,-68 76.5,-62 76.5,-56 76.5,-56 76.5,-12 76.5,-12 76.5,-6 82.5,0 88.5,0 88.5,0 221.5,0 221.5,0 227.5,0 233.5,-6 233.5,-12 233.5,-12 233.5,-56 233.5,-56 233.5,-62 227.5,-68 221.5,-68\"/>\n",
       "<text text-anchor=\"middle\" x=\"155\" y=\"-52.8\" font-family=\"Helvetica,sans-Serif\" font-size=\"14.00\">gini = 0.0</text>\n",
       "<text text-anchor=\"middle\" x=\"155\" y=\"-37.8\" font-family=\"Helvetica,sans-Serif\" font-size=\"14.00\">samples = 1</text>\n",
       "<text text-anchor=\"middle\" x=\"155\" y=\"-22.8\" font-family=\"Helvetica,sans-Serif\" font-size=\"14.00\">value = [0, 0, 1]</text>\n",
       "<text text-anchor=\"middle\" x=\"155\" y=\"-7.8\" font-family=\"Helvetica,sans-Serif\" font-size=\"14.00\">class = Iris&#45;virginica</text>\n",
       "</g>\n",
       "<!-- 5&#45;&gt;6 -->\n",
       "<g id=\"edge6\" class=\"edge\">\n",
       "<title>5&#45;&gt;6</title>\n",
       "<path fill=\"none\" stroke=\"black\" d=\"M211.49,-103.73C204.07,-94.7 196.2,-85.12 188.77,-76.08\"/>\n",
       "<polygon fill=\"black\" stroke=\"black\" points=\"191.42,-73.8 182.37,-68.3 186.02,-78.25 191.42,-73.8\"/>\n",
       "</g>\n",
       "<!-- 7 -->\n",
       "<g id=\"node8\" class=\"node\">\n",
       "<title>7</title>\n",
       "<path fill=\"#39e581\" stroke=\"black\" d=\"M406,-68C406,-68 264,-68 264,-68 258,-68 252,-62 252,-56 252,-56 252,-12 252,-12 252,-6 258,0 264,0 264,0 406,0 406,0 412,0 418,-6 418,-12 418,-12 418,-56 418,-56 418,-62 412,-68 406,-68\"/>\n",
       "<text text-anchor=\"middle\" x=\"335\" y=\"-52.8\" font-family=\"Helvetica,sans-Serif\" font-size=\"14.00\">gini = 0.0</text>\n",
       "<text text-anchor=\"middle\" x=\"335\" y=\"-37.8\" font-family=\"Helvetica,sans-Serif\" font-size=\"14.00\">samples = 1</text>\n",
       "<text text-anchor=\"middle\" x=\"335\" y=\"-22.8\" font-family=\"Helvetica,sans-Serif\" font-size=\"14.00\">value = [0, 1, 0]</text>\n",
       "<text text-anchor=\"middle\" x=\"335\" y=\"-7.8\" font-family=\"Helvetica,sans-Serif\" font-size=\"14.00\">class = Iris&#45;versicolor</text>\n",
       "</g>\n",
       "<!-- 5&#45;&gt;7 -->\n",
       "<g id=\"edge7\" class=\"edge\">\n",
       "<title>5&#45;&gt;7</title>\n",
       "<path fill=\"none\" stroke=\"black\" d=\"M278.51,-103.73C285.93,-94.7 293.8,-85.12 301.23,-76.08\"/>\n",
       "<polygon fill=\"black\" stroke=\"black\" points=\"303.98,-78.25 307.63,-68.3 298.58,-73.8 303.98,-78.25\"/>\n",
       "</g>\n",
       "</g>\n",
       "</svg>\n"
      ],
      "text/plain": [
       "<graphviz.files.Source at 0x7f3dc3d71d00>"
      ]
     },
     "execution_count": 74,
     "metadata": {},
     "output_type": "execute_result"
    }
   ],
   "source": [
    "feature_cols = ['sepallength', 'sepalwidth', 'petallength', 'petalwidth']\n",
    "target_name = ['Iris-setosa', 'Iris-versicolor', 'Iris-virginica']\n",
    "X = df[feature_cols]\n",
    "y = df[target]\n",
    "\n",
    "clf = DecisionTreeClassifier(criterion=\"gini\")\n",
    "clf = clf.fit(X_test, y_test)\n",
    "dot_data = tree.export_graphviz(clf, out_file=None, feature_names=feature_cols,class_names=target_name, rounded=True, filled=True)\n",
    "graph = graphviz.Source(dot_data)\n",
    "graph"
   ]
  },
  {
   "cell_type": "code",
   "execution_count": 60,
   "metadata": {
    "scrolled": false
   },
   "outputs": [
    {
     "name": "stdout",
     "output_type": "stream",
     "text": [
      "Max Depth of tree:  4\n",
      "Number of nodes:  9\n",
      "Number of leaves:  5\n"
     ]
    }
   ],
   "source": [
    "print('Max Depth of tree: ',clf.get_depth())\n",
    "print('Number of nodes: ',clf.tree_.node_count)\n",
    "print('Number of leaves: ',clf.get_n_leaves())"
   ]
  },
  {
   "cell_type": "code",
   "execution_count": 61,
   "metadata": {
    "scrolled": true
   },
   "outputs": [
    {
     "name": "stdout",
     "output_type": "stream",
     "text": [
      "|--- petalwidth <= 0.75\n",
      "|   |--- class: Iris-setosa\n",
      "|--- petalwidth >  0.75\n",
      "|   |--- petallength <= 4.85\n",
      "|   |   |--- class: Iris-versicolor\n",
      "|   |--- petallength >  4.85\n",
      "|   |   |--- petalwidth <= 1.75\n",
      "|   |   |   |--- sepallength <= 6.35\n",
      "|   |   |   |   |--- class: Iris-virginica\n",
      "|   |   |   |--- sepallength >  6.35\n",
      "|   |   |   |   |--- class: Iris-versicolor\n",
      "|   |   |--- petalwidth >  1.75\n",
      "|   |   |   |--- class: Iris-virginica\n",
      "\n"
     ]
    }
   ],
   "source": [
    "tree_rules = export_text(clf, feature_names=list(X_train.columns))\n",
    "print(tree_rules)"
   ]
  },
  {
   "cell_type": "markdown",
   "metadata": {},
   "source": [
    "# KORREKTUR\n",
    "**Number of Rules**\n",
    "- Iris-setosa: 1\n",
    "- Iris-virginica: 2\n",
    "- Iris-versicolor: 2\n"
   ]
  },
  {
   "cell_type": "code",
   "execution_count": 62,
   "metadata": {},
   "outputs": [
    {
     "data": {
      "image/svg+xml": [
       "<?xml version=\"1.0\" encoding=\"UTF-8\" standalone=\"no\"?>\n",
       "<!DOCTYPE svg PUBLIC \"-//W3C//DTD SVG 1.1//EN\"\n",
       " \"http://www.w3.org/Graphics/SVG/1.1/DTD/svg11.dtd\">\n",
       "<!-- Generated by graphviz version 2.43.0 (0)\n",
       " -->\n",
       "<!-- Title: Tree Pages: 1 -->\n",
       "<svg width=\"512pt\" height=\"552pt\"\n",
       " viewBox=\"0.00 0.00 511.50 552.00\" xmlns=\"http://www.w3.org/2000/svg\" xmlns:xlink=\"http://www.w3.org/1999/xlink\">\n",
       "<g id=\"graph0\" class=\"graph\" transform=\"scale(1 1) rotate(0) translate(4 548)\">\n",
       "<title>Tree</title>\n",
       "<polygon fill=\"white\" stroke=\"transparent\" points=\"-4,4 -4,-548 507.5,-548 507.5,4 -4,4\"/>\n",
       "<!-- 0 -->\n",
       "<g id=\"node1\" class=\"node\">\n",
       "<title>0</title>\n",
       "<path fill=\"#e5fcef\" stroke=\"black\" d=\"M229,-544C229,-544 87,-544 87,-544 81,-544 75,-538 75,-532 75,-532 75,-473 75,-473 75,-467 81,-461 87,-461 87,-461 229,-461 229,-461 235,-461 241,-467 241,-473 241,-473 241,-532 241,-532 241,-538 235,-544 229,-544\"/>\n",
       "<text text-anchor=\"middle\" x=\"158\" y=\"-528.8\" font-family=\"Helvetica,sans-Serif\" font-size=\"14.00\">petallength &lt;= 2.45</text>\n",
       "<text text-anchor=\"middle\" x=\"158\" y=\"-513.8\" font-family=\"Helvetica,sans-Serif\" font-size=\"14.00\">entropy = 1.57</text>\n",
       "<text text-anchor=\"middle\" x=\"158\" y=\"-498.8\" font-family=\"Helvetica,sans-Serif\" font-size=\"14.00\">samples = 45</text>\n",
       "<text text-anchor=\"middle\" x=\"158\" y=\"-483.8\" font-family=\"Helvetica,sans-Serif\" font-size=\"14.00\">value = [14, 18, 13]</text>\n",
       "<text text-anchor=\"middle\" x=\"158\" y=\"-468.8\" font-family=\"Helvetica,sans-Serif\" font-size=\"14.00\">class = Iris&#45;versicolor</text>\n",
       "</g>\n",
       "<!-- 1 -->\n",
       "<g id=\"node2\" class=\"node\">\n",
       "<title>1</title>\n",
       "<path fill=\"#e58139\" stroke=\"black\" d=\"M132,-417.5C132,-417.5 12,-417.5 12,-417.5 6,-417.5 0,-411.5 0,-405.5 0,-405.5 0,-361.5 0,-361.5 0,-355.5 6,-349.5 12,-349.5 12,-349.5 132,-349.5 132,-349.5 138,-349.5 144,-355.5 144,-361.5 144,-361.5 144,-405.5 144,-405.5 144,-411.5 138,-417.5 132,-417.5\"/>\n",
       "<text text-anchor=\"middle\" x=\"72\" y=\"-402.3\" font-family=\"Helvetica,sans-Serif\" font-size=\"14.00\">entropy = 0.0</text>\n",
       "<text text-anchor=\"middle\" x=\"72\" y=\"-387.3\" font-family=\"Helvetica,sans-Serif\" font-size=\"14.00\">samples = 14</text>\n",
       "<text text-anchor=\"middle\" x=\"72\" y=\"-372.3\" font-family=\"Helvetica,sans-Serif\" font-size=\"14.00\">value = [14, 0, 0]</text>\n",
       "<text text-anchor=\"middle\" x=\"72\" y=\"-357.3\" font-family=\"Helvetica,sans-Serif\" font-size=\"14.00\">class = Iris&#45;setosa</text>\n",
       "</g>\n",
       "<!-- 0&#45;&gt;1 -->\n",
       "<g id=\"edge1\" class=\"edge\">\n",
       "<title>0&#45;&gt;1</title>\n",
       "<path fill=\"none\" stroke=\"black\" d=\"M128.16,-460.91C119.81,-449.54 110.72,-437.18 102.34,-425.77\"/>\n",
       "<polygon fill=\"black\" stroke=\"black\" points=\"105.12,-423.65 96.38,-417.67 99.48,-427.8 105.12,-423.65\"/>\n",
       "<text text-anchor=\"middle\" x=\"92.61\" y=\"-438.68\" font-family=\"Helvetica,sans-Serif\" font-size=\"14.00\">True</text>\n",
       "</g>\n",
       "<!-- 2 -->\n",
       "<g id=\"node3\" class=\"node\">\n",
       "<title>2</title>\n",
       "<path fill=\"#c8f8dc\" stroke=\"black\" d=\"M316,-425C316,-425 174,-425 174,-425 168,-425 162,-419 162,-413 162,-413 162,-354 162,-354 162,-348 168,-342 174,-342 174,-342 316,-342 316,-342 322,-342 328,-348 328,-354 328,-354 328,-413 328,-413 328,-419 322,-425 316,-425\"/>\n",
       "<text text-anchor=\"middle\" x=\"245\" y=\"-409.8\" font-family=\"Helvetica,sans-Serif\" font-size=\"14.00\">petallength &lt;= 4.85</text>\n",
       "<text text-anchor=\"middle\" x=\"245\" y=\"-394.8\" font-family=\"Helvetica,sans-Serif\" font-size=\"14.00\">entropy = 0.981</text>\n",
       "<text text-anchor=\"middle\" x=\"245\" y=\"-379.8\" font-family=\"Helvetica,sans-Serif\" font-size=\"14.00\">samples = 31</text>\n",
       "<text text-anchor=\"middle\" x=\"245\" y=\"-364.8\" font-family=\"Helvetica,sans-Serif\" font-size=\"14.00\">value = [0, 18, 13]</text>\n",
       "<text text-anchor=\"middle\" x=\"245\" y=\"-349.8\" font-family=\"Helvetica,sans-Serif\" font-size=\"14.00\">class = Iris&#45;versicolor</text>\n",
       "</g>\n",
       "<!-- 0&#45;&gt;2 -->\n",
       "<g id=\"edge2\" class=\"edge\">\n",
       "<title>0&#45;&gt;2</title>\n",
       "<path fill=\"none\" stroke=\"black\" d=\"M188.18,-460.91C194.86,-451.92 202.01,-442.32 208.9,-433.05\"/>\n",
       "<polygon fill=\"black\" stroke=\"black\" points=\"211.71,-435.13 214.87,-425.02 206.09,-430.96 211.71,-435.13\"/>\n",
       "<text text-anchor=\"middle\" x=\"218.51\" y=\"-446.05\" font-family=\"Helvetica,sans-Serif\" font-size=\"14.00\">False</text>\n",
       "</g>\n",
       "<!-- 3 -->\n",
       "<g id=\"node4\" class=\"node\">\n",
       "<title>3</title>\n",
       "<path fill=\"#39e581\" stroke=\"black\" d=\"M226,-298.5C226,-298.5 84,-298.5 84,-298.5 78,-298.5 72,-292.5 72,-286.5 72,-286.5 72,-242.5 72,-242.5 72,-236.5 78,-230.5 84,-230.5 84,-230.5 226,-230.5 226,-230.5 232,-230.5 238,-236.5 238,-242.5 238,-242.5 238,-286.5 238,-286.5 238,-292.5 232,-298.5 226,-298.5\"/>\n",
       "<text text-anchor=\"middle\" x=\"155\" y=\"-283.3\" font-family=\"Helvetica,sans-Serif\" font-size=\"14.00\">entropy = 0.0</text>\n",
       "<text text-anchor=\"middle\" x=\"155\" y=\"-268.3\" font-family=\"Helvetica,sans-Serif\" font-size=\"14.00\">samples = 17</text>\n",
       "<text text-anchor=\"middle\" x=\"155\" y=\"-253.3\" font-family=\"Helvetica,sans-Serif\" font-size=\"14.00\">value = [0, 17, 0]</text>\n",
       "<text text-anchor=\"middle\" x=\"155\" y=\"-238.3\" font-family=\"Helvetica,sans-Serif\" font-size=\"14.00\">class = Iris&#45;versicolor</text>\n",
       "</g>\n",
       "<!-- 2&#45;&gt;3 -->\n",
       "<g id=\"edge3\" class=\"edge\">\n",
       "<title>2&#45;&gt;3</title>\n",
       "<path fill=\"none\" stroke=\"black\" d=\"M213.77,-341.91C205.03,-330.54 195.52,-318.18 186.75,-306.77\"/>\n",
       "<polygon fill=\"black\" stroke=\"black\" points=\"189.38,-304.46 180.51,-298.67 183.84,-308.73 189.38,-304.46\"/>\n",
       "</g>\n",
       "<!-- 4 -->\n",
       "<g id=\"node5\" class=\"node\">\n",
       "<title>4</title>\n",
       "<path fill=\"#8b48e7\" stroke=\"black\" d=\"M401.5,-306C401.5,-306 268.5,-306 268.5,-306 262.5,-306 256.5,-300 256.5,-294 256.5,-294 256.5,-235 256.5,-235 256.5,-229 262.5,-223 268.5,-223 268.5,-223 401.5,-223 401.5,-223 407.5,-223 413.5,-229 413.5,-235 413.5,-235 413.5,-294 413.5,-294 413.5,-300 407.5,-306 401.5,-306\"/>\n",
       "<text text-anchor=\"middle\" x=\"335\" y=\"-290.8\" font-family=\"Helvetica,sans-Serif\" font-size=\"14.00\">petalwidth &lt;= 1.75</text>\n",
       "<text text-anchor=\"middle\" x=\"335\" y=\"-275.8\" font-family=\"Helvetica,sans-Serif\" font-size=\"14.00\">entropy = 0.371</text>\n",
       "<text text-anchor=\"middle\" x=\"335\" y=\"-260.8\" font-family=\"Helvetica,sans-Serif\" font-size=\"14.00\">samples = 14</text>\n",
       "<text text-anchor=\"middle\" x=\"335\" y=\"-245.8\" font-family=\"Helvetica,sans-Serif\" font-size=\"14.00\">value = [0, 1, 13]</text>\n",
       "<text text-anchor=\"middle\" x=\"335\" y=\"-230.8\" font-family=\"Helvetica,sans-Serif\" font-size=\"14.00\">class = Iris&#45;virginica</text>\n",
       "</g>\n",
       "<!-- 2&#45;&gt;4 -->\n",
       "<g id=\"edge4\" class=\"edge\">\n",
       "<title>2&#45;&gt;4</title>\n",
       "<path fill=\"none\" stroke=\"black\" d=\"M276.23,-341.91C283.14,-332.92 290.53,-323.32 297.65,-314.05\"/>\n",
       "<polygon fill=\"black\" stroke=\"black\" points=\"300.51,-316.08 303.83,-306.02 294.96,-311.81 300.51,-316.08\"/>\n",
       "</g>\n",
       "<!-- 5 -->\n",
       "<g id=\"node6\" class=\"node\">\n",
       "<title>5</title>\n",
       "<path fill=\"#ffffff\" stroke=\"black\" d=\"M316,-187C316,-187 174,-187 174,-187 168,-187 162,-181 162,-175 162,-175 162,-116 162,-116 162,-110 168,-104 174,-104 174,-104 316,-104 316,-104 322,-104 328,-110 328,-116 328,-116 328,-175 328,-175 328,-181 322,-187 316,-187\"/>\n",
       "<text text-anchor=\"middle\" x=\"245\" y=\"-171.8\" font-family=\"Helvetica,sans-Serif\" font-size=\"14.00\">sepalwidth &lt;= 2.6</text>\n",
       "<text text-anchor=\"middle\" x=\"245\" y=\"-156.8\" font-family=\"Helvetica,sans-Serif\" font-size=\"14.00\">entropy = 1.0</text>\n",
       "<text text-anchor=\"middle\" x=\"245\" y=\"-141.8\" font-family=\"Helvetica,sans-Serif\" font-size=\"14.00\">samples = 2</text>\n",
       "<text text-anchor=\"middle\" x=\"245\" y=\"-126.8\" font-family=\"Helvetica,sans-Serif\" font-size=\"14.00\">value = [0, 1, 1]</text>\n",
       "<text text-anchor=\"middle\" x=\"245\" y=\"-111.8\" font-family=\"Helvetica,sans-Serif\" font-size=\"14.00\">class = Iris&#45;versicolor</text>\n",
       "</g>\n",
       "<!-- 4&#45;&gt;5 -->\n",
       "<g id=\"edge5\" class=\"edge\">\n",
       "<title>4&#45;&gt;5</title>\n",
       "<path fill=\"none\" stroke=\"black\" d=\"M303.77,-222.91C296.86,-213.92 289.47,-204.32 282.35,-195.05\"/>\n",
       "<polygon fill=\"black\" stroke=\"black\" points=\"285.04,-192.81 276.17,-187.02 279.49,-197.08 285.04,-192.81\"/>\n",
       "</g>\n",
       "<!-- 8 -->\n",
       "<g id=\"node9\" class=\"node\">\n",
       "<title>8</title>\n",
       "<path fill=\"#8139e5\" stroke=\"black\" d=\"M491.5,-179.5C491.5,-179.5 358.5,-179.5 358.5,-179.5 352.5,-179.5 346.5,-173.5 346.5,-167.5 346.5,-167.5 346.5,-123.5 346.5,-123.5 346.5,-117.5 352.5,-111.5 358.5,-111.5 358.5,-111.5 491.5,-111.5 491.5,-111.5 497.5,-111.5 503.5,-117.5 503.5,-123.5 503.5,-123.5 503.5,-167.5 503.5,-167.5 503.5,-173.5 497.5,-179.5 491.5,-179.5\"/>\n",
       "<text text-anchor=\"middle\" x=\"425\" y=\"-164.3\" font-family=\"Helvetica,sans-Serif\" font-size=\"14.00\">entropy = 0.0</text>\n",
       "<text text-anchor=\"middle\" x=\"425\" y=\"-149.3\" font-family=\"Helvetica,sans-Serif\" font-size=\"14.00\">samples = 12</text>\n",
       "<text text-anchor=\"middle\" x=\"425\" y=\"-134.3\" font-family=\"Helvetica,sans-Serif\" font-size=\"14.00\">value = [0, 0, 12]</text>\n",
       "<text text-anchor=\"middle\" x=\"425\" y=\"-119.3\" font-family=\"Helvetica,sans-Serif\" font-size=\"14.00\">class = Iris&#45;virginica</text>\n",
       "</g>\n",
       "<!-- 4&#45;&gt;8 -->\n",
       "<g id=\"edge8\" class=\"edge\">\n",
       "<title>4&#45;&gt;8</title>\n",
       "<path fill=\"none\" stroke=\"black\" d=\"M366.23,-222.91C374.97,-211.54 384.48,-199.18 393.25,-187.77\"/>\n",
       "<polygon fill=\"black\" stroke=\"black\" points=\"396.16,-189.73 399.49,-179.67 390.62,-185.46 396.16,-189.73\"/>\n",
       "</g>\n",
       "<!-- 6 -->\n",
       "<g id=\"node7\" class=\"node\">\n",
       "<title>6</title>\n",
       "<path fill=\"#8139e5\" stroke=\"black\" d=\"M221.5,-68C221.5,-68 88.5,-68 88.5,-68 82.5,-68 76.5,-62 76.5,-56 76.5,-56 76.5,-12 76.5,-12 76.5,-6 82.5,0 88.5,0 88.5,0 221.5,0 221.5,0 227.5,0 233.5,-6 233.5,-12 233.5,-12 233.5,-56 233.5,-56 233.5,-62 227.5,-68 221.5,-68\"/>\n",
       "<text text-anchor=\"middle\" x=\"155\" y=\"-52.8\" font-family=\"Helvetica,sans-Serif\" font-size=\"14.00\">entropy = 0.0</text>\n",
       "<text text-anchor=\"middle\" x=\"155\" y=\"-37.8\" font-family=\"Helvetica,sans-Serif\" font-size=\"14.00\">samples = 1</text>\n",
       "<text text-anchor=\"middle\" x=\"155\" y=\"-22.8\" font-family=\"Helvetica,sans-Serif\" font-size=\"14.00\">value = [0, 0, 1]</text>\n",
       "<text text-anchor=\"middle\" x=\"155\" y=\"-7.8\" font-family=\"Helvetica,sans-Serif\" font-size=\"14.00\">class = Iris&#45;virginica</text>\n",
       "</g>\n",
       "<!-- 5&#45;&gt;6 -->\n",
       "<g id=\"edge6\" class=\"edge\">\n",
       "<title>5&#45;&gt;6</title>\n",
       "<path fill=\"none\" stroke=\"black\" d=\"M211.49,-103.73C204.07,-94.7 196.2,-85.12 188.77,-76.08\"/>\n",
       "<polygon fill=\"black\" stroke=\"black\" points=\"191.42,-73.8 182.37,-68.3 186.02,-78.25 191.42,-73.8\"/>\n",
       "</g>\n",
       "<!-- 7 -->\n",
       "<g id=\"node8\" class=\"node\">\n",
       "<title>7</title>\n",
       "<path fill=\"#39e581\" stroke=\"black\" d=\"M406,-68C406,-68 264,-68 264,-68 258,-68 252,-62 252,-56 252,-56 252,-12 252,-12 252,-6 258,0 264,0 264,0 406,0 406,0 412,0 418,-6 418,-12 418,-12 418,-56 418,-56 418,-62 412,-68 406,-68\"/>\n",
       "<text text-anchor=\"middle\" x=\"335\" y=\"-52.8\" font-family=\"Helvetica,sans-Serif\" font-size=\"14.00\">entropy = 0.0</text>\n",
       "<text text-anchor=\"middle\" x=\"335\" y=\"-37.8\" font-family=\"Helvetica,sans-Serif\" font-size=\"14.00\">samples = 1</text>\n",
       "<text text-anchor=\"middle\" x=\"335\" y=\"-22.8\" font-family=\"Helvetica,sans-Serif\" font-size=\"14.00\">value = [0, 1, 0]</text>\n",
       "<text text-anchor=\"middle\" x=\"335\" y=\"-7.8\" font-family=\"Helvetica,sans-Serif\" font-size=\"14.00\">class = Iris&#45;versicolor</text>\n",
       "</g>\n",
       "<!-- 5&#45;&gt;7 -->\n",
       "<g id=\"edge7\" class=\"edge\">\n",
       "<title>5&#45;&gt;7</title>\n",
       "<path fill=\"none\" stroke=\"black\" d=\"M278.51,-103.73C285.93,-94.7 293.8,-85.12 301.23,-76.08\"/>\n",
       "<polygon fill=\"black\" stroke=\"black\" points=\"303.98,-78.25 307.63,-68.3 298.58,-73.8 303.98,-78.25\"/>\n",
       "</g>\n",
       "</g>\n",
       "</svg>\n"
      ],
      "text/plain": [
       "<graphviz.files.Source at 0x7f3da1e08e80>"
      ]
     },
     "execution_count": 62,
     "metadata": {},
     "output_type": "execute_result"
    }
   ],
   "source": [
    "clf1 = DecisionTreeClassifier(criterion=\"entropy\")\n",
    "clf1 = clf1.fit(X_test, y_test)\n",
    "dot_data = tree.export_graphviz(clf1, out_file=None, feature_names=feature_cols,class_names=target_name, rounded=True, filled=True)\n",
    "graph = graphviz.Source(dot_data)\n",
    "graph\n"
   ]
  },
  {
   "cell_type": "code",
   "execution_count": 63,
   "metadata": {},
   "outputs": [
    {
     "name": "stdout",
     "output_type": "stream",
     "text": [
      "Max Depth of tree:  4\n",
      "Number of nodes:  9\n",
      "Number of leaves:  5\n"
     ]
    }
   ],
   "source": [
    "print('Max Depth of tree: ',clf1.get_depth())\n",
    "print('Number of nodes: ',clf1.tree_.node_count)\n",
    "print('Number of leaves: ',clf1.get_n_leaves())"
   ]
  },
  {
   "cell_type": "markdown",
   "metadata": {},
   "source": [
    "# KORREKTUR\n",
    "\n",
    "**Beobachtungen**\n",
    "- Die Bäume mit den Entscheidungen gini index und information gain unterscheiden sich nicht\n",
    "- Problem hier: Bäume lernen einzelne Objekte auswendig \n",
    "- bis zum split auf depth 2 (petalwidth <=1.75) ist der größte Teil des Datensatzes korrekt zugeordnet: folgende 3 Blätter beziehen sich nur noch auf wenige Objekte, am Ende sogar nur auf ein Objekt\n",
    "- Gefahr des Overfitting besteht: für ein optimales Modell --> Pruning"
   ]
  },
  {
   "cell_type": "code",
   "execution_count": 64,
   "metadata": {
    "scrolled": false
   },
   "outputs": [
    {
     "name": "stdout",
     "output_type": "stream",
     "text": [
      "|--- petallength <= 2.45\n",
      "|   |--- class: Iris-setosa\n",
      "|--- petallength >  2.45\n",
      "|   |--- petallength <= 4.85\n",
      "|   |   |--- class: Iris-versicolor\n",
      "|   |--- petallength >  4.85\n",
      "|   |   |--- petalwidth <= 1.75\n",
      "|   |   |   |--- sepalwidth <= 2.60\n",
      "|   |   |   |   |--- class: Iris-virginica\n",
      "|   |   |   |--- sepalwidth >  2.60\n",
      "|   |   |   |   |--- class: Iris-versicolor\n",
      "|   |   |--- petalwidth >  1.75\n",
      "|   |   |   |--- class: Iris-virginica\n",
      "\n"
     ]
    }
   ],
   "source": [
    "tree_rules = export_text(clf1, feature_names=list(X_train.columns))\n",
    "print(tree_rules)"
   ]
  },
  {
   "cell_type": "markdown",
   "metadata": {},
   "source": [
    "# KORREKTUR\n",
    "**Number of Rules**\n",
    "- Iris-setosa: 1\n",
    "- Iris-virginica: 2\n",
    "- Iris-versicolor: 2\n"
   ]
  },
  {
   "cell_type": "markdown",
   "metadata": {},
   "source": [
    "## 6. Look in the book (or somewhere else) what overfitting means and report the meaning. Which trees exhibit overfitting?"
   ]
  },
  {
   "cell_type": "markdown",
   "metadata": {},
   "source": [
    "\"Overfitting\" happens when a model is trained \"too good\" on a set of data, so that it fits even the most specific branches with many features (also noisy data or outliers). \n",
    "\n",
    "Pruned Trees (which prevent Overfitting) are usually faster and better in at correctly classifying data as they are less complex and better aplicable on other than the trained data. Pruned Trees often have a significantly higher accuracy as they don't have to deal with noisy data or outliers.\n",
    "\n",
    "Almost every Tree or ML Algorythm can suffer of overfitting.\n"
   ]
  },
  {
   "cell_type": "markdown",
   "metadata": {},
   "source": [
    "# KORREKTUR:\n",
    "- Overfitting in den Bäumen s.o.: \n",
    "bis zum split auf depth 2 (petalwidth <=1.75) ist der größte Teil des Datensatzes korrekt zugeordnet: folgende 3 Blätter beziehen sich nur noch auf wenige Objekte, am Ende sogar nur auf ein Objekt"
   ]
  },
  {
   "cell_type": "markdown",
   "metadata": {},
   "source": [
    "## 7. Read in the book the section “8.2.3 Tree Pruning” p. 344. Explore the possibilities “Apply pruning”  and  “Apply  prepruning”  with  either  “information  gain”  or  “Gini  Index”.  Give  a pruned  tree  that  seems  neither  overfitted  nor  underfitted to you  and  explain  how you have generated it with Jupyter Notebook. Note: we will learn how to automatize those steps with cross-validation and grid search."
   ]
  },
  {
   "cell_type": "code",
   "execution_count": 85,
   "metadata": {},
   "outputs": [],
   "source": [
    "path = clf.cost_complexity_pruning_path(X_train, y_train) #path hat 2 werte: alpha und impurities\n",
    "ccp_alphas, impurities = path.ccp_alphas, path.impurities\n",
    "ccp_alpha = ccp_alphas[:-1] #ohne max alpha"
   ]
  },
  {
   "cell_type": "code",
   "execution_count": 86,
   "metadata": {},
   "outputs": [],
   "source": [
    "clf_dts=[] #array für decision trees\n",
    "for ccp_alpha in ccp_alphas:\n",
    "    clf_dt = DecisionTreeClassifier(random_state = 0, ccp_alpha = ccp_alpha)\n",
    "    clf_dt.fit(X_train,y_train)\n",
    "    clf_dts.append(clf_dt)"
   ]
  },
  {
   "cell_type": "code",
   "execution_count": 87,
   "metadata": {
    "scrolled": true
   },
   "outputs": [
    {
     "data": {
      "image/png": "[encoded data removed]",
      "text/plain": [
       "<Figure size 432x288 with 1 Axes>"
      ]
     },
     "metadata": {
      "needs_background": "light"
     },
     "output_type": "display_data"
    }
   ],
   "source": [
    "train_scores = [clf_dt.score(X_train, y_train) for clf_dt in clf_dts]\n",
    "test_scores = [clf_dt.score(X_test, y_test) for clf_dt in clf_dts]\n",
    "\n",
    "fig, ax = plt.subplots()\n",
    "ax.set_xlabel(\"alpha\")\n",
    "ax.set_ylabel(\"accuracy\")\n",
    "ax.set_title(\"Accuracy vs alpha for training and testing sets\")\n",
    "ax.plot(ccp_alphas, train_scores, marker='o', label=\"train\",\n",
    "        drawstyle=\"steps-post\")\n",
    "ax.plot(ccp_alphas, test_scores, marker='o', label=\"test\",\n",
    "        drawstyle=\"steps-post\")\n",
    "ax.legend()\n",
    "plt.show()"
   ]
  },
  {
   "cell_type": "markdown",
   "metadata": {},
   "source": [
    "- optimaler Punkt für Pruning liegt zwischen 0 und 0.25, danach wird der Baum zu startk beschnitten\n",
    "\n"
   ]
  },
  {
   "cell_type": "code",
   "execution_count": 70,
   "metadata": {
    "scrolled": false
   },
   "outputs": [
    {
     "data": {
      "image/svg+xml": [
       "<?xml version=\"1.0\" encoding=\"UTF-8\" standalone=\"no\"?>\n",
       "<!DOCTYPE svg PUBLIC \"-//W3C//DTD SVG 1.1//EN\"\n",
       " \"http://www.w3.org/Graphics/SVG/1.1/DTD/svg11.dtd\">\n",
       "<!-- Generated by graphviz version 2.43.0 (0)\n",
       " -->\n",
       "<!-- Title: Tree Pages: 1 -->\n",
       "<svg width=\"422pt\" height=\"314pt\"\n",
       " viewBox=\"0.00 0.00 421.50 314.00\" xmlns=\"http://www.w3.org/2000/svg\" xmlns:xlink=\"http://www.w3.org/1999/xlink\">\n",
       "<g id=\"graph0\" class=\"graph\" transform=\"scale(1 1) rotate(0) translate(4 310)\">\n",
       "<title>Tree</title>\n",
       "<polygon fill=\"white\" stroke=\"transparent\" points=\"-4,4 -4,-310 417.5,-310 417.5,4 -4,4\"/>\n",
       "<!-- 0 -->\n",
       "<g id=\"node1\" class=\"node\">\n",
       "<title>0</title>\n",
       "<path fill=\"#e5fcef\" stroke=\"black\" d=\"M229,-306C229,-306 87,-306 87,-306 81,-306 75,-300 75,-294 75,-294 75,-235 75,-235 75,-229 81,-223 87,-223 87,-223 229,-223 229,-223 235,-223 241,-229 241,-235 241,-235 241,-294 241,-294 241,-300 235,-306 229,-306\"/>\n",
       "<text text-anchor=\"middle\" x=\"158\" y=\"-290.8\" font-family=\"Helvetica,sans-Serif\" font-size=\"14.00\">petalwidth &lt;= 0.75</text>\n",
       "<text text-anchor=\"middle\" x=\"158\" y=\"-275.8\" font-family=\"Helvetica,sans-Serif\" font-size=\"14.00\">gini = 0.66</text>\n",
       "<text text-anchor=\"middle\" x=\"158\" y=\"-260.8\" font-family=\"Helvetica,sans-Serif\" font-size=\"14.00\">samples = 45</text>\n",
       "<text text-anchor=\"middle\" x=\"158\" y=\"-245.8\" font-family=\"Helvetica,sans-Serif\" font-size=\"14.00\">value = [14, 18, 13]</text>\n",
       "<text text-anchor=\"middle\" x=\"158\" y=\"-230.8\" font-family=\"Helvetica,sans-Serif\" font-size=\"14.00\">class = Iris&#45;versicolor</text>\n",
       "</g>\n",
       "<!-- 1 -->\n",
       "<g id=\"node2\" class=\"node\">\n",
       "<title>1</title>\n",
       "<path fill=\"#e58139\" stroke=\"black\" d=\"M132,-179.5C132,-179.5 12,-179.5 12,-179.5 6,-179.5 0,-173.5 0,-167.5 0,-167.5 0,-123.5 0,-123.5 0,-117.5 6,-111.5 12,-111.5 12,-111.5 132,-111.5 132,-111.5 138,-111.5 144,-117.5 144,-123.5 144,-123.5 144,-167.5 144,-167.5 144,-173.5 138,-179.5 132,-179.5\"/>\n",
       "<text text-anchor=\"middle\" x=\"72\" y=\"-164.3\" font-family=\"Helvetica,sans-Serif\" font-size=\"14.00\">gini = 0.0</text>\n",
       "<text text-anchor=\"middle\" x=\"72\" y=\"-149.3\" font-family=\"Helvetica,sans-Serif\" font-size=\"14.00\">samples = 14</text>\n",
       "<text text-anchor=\"middle\" x=\"72\" y=\"-134.3\" font-family=\"Helvetica,sans-Serif\" font-size=\"14.00\">value = [14, 0, 0]</text>\n",
       "<text text-anchor=\"middle\" x=\"72\" y=\"-119.3\" font-family=\"Helvetica,sans-Serif\" font-size=\"14.00\">class = Iris&#45;setosa</text>\n",
       "</g>\n",
       "<!-- 0&#45;&gt;1 -->\n",
       "<g id=\"edge1\" class=\"edge\">\n",
       "<title>0&#45;&gt;1</title>\n",
       "<path fill=\"none\" stroke=\"black\" d=\"M128.16,-222.91C119.81,-211.54 110.72,-199.18 102.34,-187.77\"/>\n",
       "<polygon fill=\"black\" stroke=\"black\" points=\"105.12,-185.65 96.38,-179.67 99.48,-189.8 105.12,-185.65\"/>\n",
       "<text text-anchor=\"middle\" x=\"92.61\" y=\"-200.68\" font-family=\"Helvetica,sans-Serif\" font-size=\"14.00\">True</text>\n",
       "</g>\n",
       "<!-- 2 -->\n",
       "<g id=\"node3\" class=\"node\">\n",
       "<title>2</title>\n",
       "<path fill=\"#c8f8dc\" stroke=\"black\" d=\"M316,-187C316,-187 174,-187 174,-187 168,-187 162,-181 162,-175 162,-175 162,-116 162,-116 162,-110 168,-104 174,-104 174,-104 316,-104 316,-104 322,-104 328,-110 328,-116 328,-116 328,-175 328,-175 328,-181 322,-187 316,-187\"/>\n",
       "<text text-anchor=\"middle\" x=\"245\" y=\"-171.8\" font-family=\"Helvetica,sans-Serif\" font-size=\"14.00\">petallength &lt;= 4.85</text>\n",
       "<text text-anchor=\"middle\" x=\"245\" y=\"-156.8\" font-family=\"Helvetica,sans-Serif\" font-size=\"14.00\">gini = 0.487</text>\n",
       "<text text-anchor=\"middle\" x=\"245\" y=\"-141.8\" font-family=\"Helvetica,sans-Serif\" font-size=\"14.00\">samples = 31</text>\n",
       "<text text-anchor=\"middle\" x=\"245\" y=\"-126.8\" font-family=\"Helvetica,sans-Serif\" font-size=\"14.00\">value = [0, 18, 13]</text>\n",
       "<text text-anchor=\"middle\" x=\"245\" y=\"-111.8\" font-family=\"Helvetica,sans-Serif\" font-size=\"14.00\">class = Iris&#45;versicolor</text>\n",
       "</g>\n",
       "<!-- 0&#45;&gt;2 -->\n",
       "<g id=\"edge2\" class=\"edge\">\n",
       "<title>0&#45;&gt;2</title>\n",
       "<path fill=\"none\" stroke=\"black\" d=\"M188.18,-222.91C194.86,-213.92 202.01,-204.32 208.9,-195.05\"/>\n",
       "<polygon fill=\"black\" stroke=\"black\" points=\"211.71,-197.13 214.87,-187.02 206.09,-192.96 211.71,-197.13\"/>\n",
       "<text text-anchor=\"middle\" x=\"218.51\" y=\"-208.05\" font-family=\"Helvetica,sans-Serif\" font-size=\"14.00\">False</text>\n",
       "</g>\n",
       "<!-- 3 -->\n",
       "<g id=\"node4\" class=\"node\">\n",
       "<title>3</title>\n",
       "<path fill=\"#39e581\" stroke=\"black\" d=\"M226,-68C226,-68 84,-68 84,-68 78,-68 72,-62 72,-56 72,-56 72,-12 72,-12 72,-6 78,0 84,0 84,0 226,0 226,0 232,0 238,-6 238,-12 238,-12 238,-56 238,-56 238,-62 232,-68 226,-68\"/>\n",
       "<text text-anchor=\"middle\" x=\"155\" y=\"-52.8\" font-family=\"Helvetica,sans-Serif\" font-size=\"14.00\">gini = 0.0</text>\n",
       "<text text-anchor=\"middle\" x=\"155\" y=\"-37.8\" font-family=\"Helvetica,sans-Serif\" font-size=\"14.00\">samples = 17</text>\n",
       "<text text-anchor=\"middle\" x=\"155\" y=\"-22.8\" font-family=\"Helvetica,sans-Serif\" font-size=\"14.00\">value = [0, 17, 0]</text>\n",
       "<text text-anchor=\"middle\" x=\"155\" y=\"-7.8\" font-family=\"Helvetica,sans-Serif\" font-size=\"14.00\">class = Iris&#45;versicolor</text>\n",
       "</g>\n",
       "<!-- 2&#45;&gt;3 -->\n",
       "<g id=\"edge3\" class=\"edge\">\n",
       "<title>2&#45;&gt;3</title>\n",
       "<path fill=\"none\" stroke=\"black\" d=\"M211.49,-103.73C204.07,-94.7 196.2,-85.12 188.77,-76.08\"/>\n",
       "<polygon fill=\"black\" stroke=\"black\" points=\"191.42,-73.8 182.37,-68.3 186.02,-78.25 191.42,-73.8\"/>\n",
       "</g>\n",
       "<!-- 4 -->\n",
       "<g id=\"node5\" class=\"node\">\n",
       "<title>4</title>\n",
       "<path fill=\"#8b48e7\" stroke=\"black\" d=\"M401.5,-68C401.5,-68 268.5,-68 268.5,-68 262.5,-68 256.5,-62 256.5,-56 256.5,-56 256.5,-12 256.5,-12 256.5,-6 262.5,0 268.5,0 268.5,0 401.5,0 401.5,0 407.5,0 413.5,-6 413.5,-12 413.5,-12 413.5,-56 413.5,-56 413.5,-62 407.5,-68 401.5,-68\"/>\n",
       "<text text-anchor=\"middle\" x=\"335\" y=\"-52.8\" font-family=\"Helvetica,sans-Serif\" font-size=\"14.00\">gini = 0.133</text>\n",
       "<text text-anchor=\"middle\" x=\"335\" y=\"-37.8\" font-family=\"Helvetica,sans-Serif\" font-size=\"14.00\">samples = 14</text>\n",
       "<text text-anchor=\"middle\" x=\"335\" y=\"-22.8\" font-family=\"Helvetica,sans-Serif\" font-size=\"14.00\">value = [0, 1, 13]</text>\n",
       "<text text-anchor=\"middle\" x=\"335\" y=\"-7.8\" font-family=\"Helvetica,sans-Serif\" font-size=\"14.00\">class = Iris&#45;virginica</text>\n",
       "</g>\n",
       "<!-- 2&#45;&gt;4 -->\n",
       "<g id=\"edge4\" class=\"edge\">\n",
       "<title>2&#45;&gt;4</title>\n",
       "<path fill=\"none\" stroke=\"black\" d=\"M278.51,-103.73C285.93,-94.7 293.8,-85.12 301.23,-76.08\"/>\n",
       "<polygon fill=\"black\" stroke=\"black\" points=\"303.98,-78.25 307.63,-68.3 298.58,-73.8 303.98,-78.25\"/>\n",
       "</g>\n",
       "</g>\n",
       "</svg>\n"
      ],
      "text/plain": [
       "<graphviz.files.Source at 0x7f3dc9184940>"
      ]
     },
     "execution_count": 70,
     "metadata": {},
     "output_type": "execute_result"
    }
   ],
   "source": [
    "clf3 = DecisionTreeClassifier(ccp_alpha=0.15)\n",
    "clf3 = clf3.fit(X_test, y_test)\n",
    "dot_data = tree.export_graphviz(clf3, out_file=None, feature_names=feature_cols,class_names=target_name, rounded=True, filled=True)\n",
    "graph = graphviz.Source(dot_data)\n",
    "graph"
   ]
  },
  {
   "cell_type": "markdown",
   "metadata": {},
   "source": [
    "# KORREKTUR:\n",
    "### Vergleich zu den unbeschnittenen Bäumen (s.o. Exercise 5): \n",
    "- hier lernen nicht einzelne Objekte auswendig \n",
    "- Baum ist generalisiert: unterer Teil fällz weg (ab gini 0.133)\n",
    "- minimale Fehlertoleranz wird in Kauf genommen um das Modell effizient zu zu halten\n",
    "- aufgrund des Prunings ist der Baum meistens schneller und besser im korrekten Klassifizieren von Daten\n",
    "- sind weniger komplex und effektiver anwendbar auf Testdaten"
   ]
  }
 ],
 "metadata": {
  "kernelspec": {
   "display_name": "Python 3",
   "language": "python",
   "name": "python3"
  },
  "language_info": {
   "codemirror_mode": {
    "name": "ipython",
    "version": 3
   },
   "file_extension": ".py",
   "mimetype": "text/x-python",
   "name": "python",
   "nbconvert_exporter": "python",
   "pygments_lexer": "ipython3",
   "version": "3.8.5"
  }
 },
 "nbformat": 4,
 "nbformat_minor": 4
}
